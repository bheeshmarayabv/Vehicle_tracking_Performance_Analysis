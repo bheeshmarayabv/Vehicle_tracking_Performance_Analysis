{
 "cells": [
  {
   "cell_type": "code",
   "execution_count": 1,
   "metadata": {},
   "outputs": [],
   "source": [
    "import tensorflow as tf\n",
    "from tensorflow.keras.layers import Input, LSTM, GRU, SimpleRNN, Dense, GlobalMaxPool1D\n",
    "from tensorflow.keras.models import Model,Sequential,load_model\n",
    "from tensorflow.keras.optimizers import SGD, Adam\n",
    "\n",
    "import numpy as np\n",
    "import pandas as pd\n",
    "import matplotlib.pyplot as plt\n",
    "from sklearn.preprocessing import  MinMaxScaler ,StandardScaler\n",
    "import math\n",
    "from sklearn.metrics import mean_squared_error ,accuracy_score\n",
    "from pickle import dump, load\n",
    "from math import sqrt\n",
    "from tensorflow.keras.optimizers import SGD ,RMSprop\n",
    "from statistics import mean"
   ]
  },
  {
   "cell_type": "code",
   "execution_count": 2,
   "metadata": {},
   "outputs": [
    {
     "name": "stdout",
     "output_type": "stream",
     "text": [
      "2.4.1\n"
     ]
    }
   ],
   "source": [
    "print(tf.__version__)"
   ]
  },
  {
   "cell_type": "code",
   "execution_count": 3,
   "metadata": {},
   "outputs": [],
   "source": [
    "col_names =['sl_no','iteration','r_meas','phi_meas','rr_meas','x_m','y_m','dx_m','dy_m','r_gd','phi_gd','rr_gd','x_gd','y_gd','dx_gd','dy_gd']"
   ]
  },
  {
   "cell_type": "code",
   "execution_count": 4,
   "metadata": {},
   "outputs": [],
   "source": [
    " df= pd.read_csv(\"data/training_data.csv\",names=col_names,header=None)"
   ]
  },
  {
   "cell_type": "code",
   "execution_count": null,
   "metadata": {},
   "outputs": [],
   "source": []
  },
  {
   "cell_type": "code",
   "execution_count": 5,
   "metadata": {},
   "outputs": [
    {
     "data": {
      "text/html": [
       "<div>\n",
       "<style scoped>\n",
       "    .dataframe tbody tr th:only-of-type {\n",
       "        vertical-align: middle;\n",
       "    }\n",
       "\n",
       "    .dataframe tbody tr th {\n",
       "        vertical-align: top;\n",
       "    }\n",
       "\n",
       "    .dataframe thead th {\n",
       "        text-align: right;\n",
       "    }\n",
       "</style>\n",
       "<table border=\"1\" class=\"dataframe\">\n",
       "  <thead>\n",
       "    <tr style=\"text-align: right;\">\n",
       "      <th></th>\n",
       "      <th>sl_no</th>\n",
       "      <th>iteration</th>\n",
       "      <th>r_meas</th>\n",
       "      <th>phi_meas</th>\n",
       "      <th>rr_meas</th>\n",
       "      <th>x_m</th>\n",
       "      <th>y_m</th>\n",
       "      <th>dx_m</th>\n",
       "      <th>dy_m</th>\n",
       "      <th>r_gd</th>\n",
       "      <th>phi_gd</th>\n",
       "      <th>rr_gd</th>\n",
       "      <th>x_gd</th>\n",
       "      <th>y_gd</th>\n",
       "      <th>dx_gd</th>\n",
       "      <th>dy_gd</th>\n",
       "    </tr>\n",
       "  </thead>\n",
       "  <tbody>\n",
       "    <tr>\n",
       "      <th>0</th>\n",
       "      <td>1</td>\n",
       "      <td>0</td>\n",
       "      <td>13.661716</td>\n",
       "      <td>0.006404</td>\n",
       "      <td>-0.176324</td>\n",
       "      <td>13.661436</td>\n",
       "      <td>0.087489</td>\n",
       "      <td>-0.176320</td>\n",
       "      <td>-0.001129</td>\n",
       "      <td>8.857460</td>\n",
       "      <td>0.000044</td>\n",
       "      <td>0.000746</td>\n",
       "      <td>8.857460</td>\n",
       "      <td>0.000391</td>\n",
       "      <td>0.000746</td>\n",
       "      <td>0.000000</td>\n",
       "    </tr>\n",
       "    <tr>\n",
       "      <th>1</th>\n",
       "      <td>1</td>\n",
       "      <td>1</td>\n",
       "      <td>18.462030</td>\n",
       "      <td>-0.017085</td>\n",
       "      <td>0.050058</td>\n",
       "      <td>18.459336</td>\n",
       "      <td>-0.315405</td>\n",
       "      <td>0.050051</td>\n",
       "      <td>-0.000855</td>\n",
       "      <td>8.825450</td>\n",
       "      <td>0.000429</td>\n",
       "      <td>-0.032009</td>\n",
       "      <td>8.825450</td>\n",
       "      <td>0.003786</td>\n",
       "      <td>-0.032009</td>\n",
       "      <td>-0.000014</td>\n",
       "    </tr>\n",
       "    <tr>\n",
       "      <th>2</th>\n",
       "      <td>1</td>\n",
       "      <td>2</td>\n",
       "      <td>6.413294</td>\n",
       "      <td>0.005260</td>\n",
       "      <td>0.005861</td>\n",
       "      <td>6.413205</td>\n",
       "      <td>0.033733</td>\n",
       "      <td>0.005861</td>\n",
       "      <td>0.000031</td>\n",
       "      <td>8.815560</td>\n",
       "      <td>0.001020</td>\n",
       "      <td>-0.009891</td>\n",
       "      <td>8.815555</td>\n",
       "      <td>0.008991</td>\n",
       "      <td>-0.009891</td>\n",
       "      <td>-0.000010</td>\n",
       "    </tr>\n",
       "    <tr>\n",
       "      <th>3</th>\n",
       "      <td>1</td>\n",
       "      <td>3</td>\n",
       "      <td>1.603305</td>\n",
       "      <td>-0.006222</td>\n",
       "      <td>0.035707</td>\n",
       "      <td>1.603274</td>\n",
       "      <td>-0.009976</td>\n",
       "      <td>0.035707</td>\n",
       "      <td>-0.000222</td>\n",
       "      <td>8.905530</td>\n",
       "      <td>0.001560</td>\n",
       "      <td>0.089970</td>\n",
       "      <td>8.905519</td>\n",
       "      <td>0.013895</td>\n",
       "      <td>0.089970</td>\n",
       "      <td>0.000140</td>\n",
       "    </tr>\n",
       "    <tr>\n",
       "      <th>4</th>\n",
       "      <td>1</td>\n",
       "      <td>4</td>\n",
       "      <td>7.389476</td>\n",
       "      <td>-0.015556</td>\n",
       "      <td>0.308614</td>\n",
       "      <td>7.388582</td>\n",
       "      <td>-0.114947</td>\n",
       "      <td>0.308577</td>\n",
       "      <td>-0.004801</td>\n",
       "      <td>9.140382</td>\n",
       "      <td>0.002096</td>\n",
       "      <td>0.234852</td>\n",
       "      <td>9.140361</td>\n",
       "      <td>0.019157</td>\n",
       "      <td>0.234851</td>\n",
       "      <td>0.000492</td>\n",
       "    </tr>\n",
       "  </tbody>\n",
       "</table>\n",
       "</div>"
      ],
      "text/plain": [
       "   sl_no  iteration     r_meas  phi_meas   rr_meas        x_m       y_m  \\\n",
       "0      1          0  13.661716  0.006404 -0.176324  13.661436  0.087489   \n",
       "1      1          1  18.462030 -0.017085  0.050058  18.459336 -0.315405   \n",
       "2      1          2   6.413294  0.005260  0.005861   6.413205  0.033733   \n",
       "3      1          3   1.603305 -0.006222  0.035707   1.603274 -0.009976   \n",
       "4      1          4   7.389476 -0.015556  0.308614   7.388582 -0.114947   \n",
       "\n",
       "       dx_m      dy_m      r_gd    phi_gd     rr_gd      x_gd      y_gd  \\\n",
       "0 -0.176320 -0.001129  8.857460  0.000044  0.000746  8.857460  0.000391   \n",
       "1  0.050051 -0.000855  8.825450  0.000429 -0.032009  8.825450  0.003786   \n",
       "2  0.005861  0.000031  8.815560  0.001020 -0.009891  8.815555  0.008991   \n",
       "3  0.035707 -0.000222  8.905530  0.001560  0.089970  8.905519  0.013895   \n",
       "4  0.308577 -0.004801  9.140382  0.002096  0.234852  9.140361  0.019157   \n",
       "\n",
       "      dx_gd     dy_gd  \n",
       "0  0.000746  0.000000  \n",
       "1 -0.032009 -0.000014  \n",
       "2 -0.009891 -0.000010  \n",
       "3  0.089970  0.000140  \n",
       "4  0.234851  0.000492  "
      ]
     },
     "execution_count": 5,
     "metadata": {},
     "output_type": "execute_result"
    }
   ],
   "source": [
    "df.head()"
   ]
  },
  {
   "cell_type": "code",
   "execution_count": 6,
   "metadata": {},
   "outputs": [],
   "source": [
    "data = df[['x_m','y_m','x_gd','y_gd']]\n",
    "data_input = data[['x_m','y_m']].values\n",
    "data_input = data_input.reshape(-1,2)\n",
    "data_gd = data[['x_gd','y_gd']].values\n",
    "data_gd = data_gd.reshape(-1,2)"
   ]
  },
  {
   "cell_type": "code",
   "execution_count": 7,
   "metadata": {},
   "outputs": [
    {
     "data": {
      "text/plain": [
       "(86254, 2)"
      ]
     },
     "execution_count": 7,
     "metadata": {},
     "output_type": "execute_result"
    }
   ],
   "source": [
    "data_input.shape"
   ]
  },
  {
   "cell_type": "code",
   "execution_count": 8,
   "metadata": {},
   "outputs": [],
   "source": [
    "def get_RMSE(predictions, ground_truth):\n",
    "    x_rmse =sqrt(np.mean((predictions[:,0]-ground_truth[:,0])**2))\n",
    "    y_rmse =sqrt(np.mean((predictions[:,1]-ground_truth[:,1])**2))\n",
    "    return x_rmse,y_rmse\n",
    "    "
   ]
  },
  {
   "cell_type": "code",
   "execution_count": 9,
   "metadata": {},
   "outputs": [],
   "source": [
    "T=5\n",
    "D=2\n",
    "train_size = int(len(data_input)*0.75)\n",
    "train_size =68983"
   ]
  },
  {
   "cell_type": "code",
   "execution_count": 10,
   "metadata": {},
   "outputs": [
    {
     "name": "stdout",
     "output_type": "stream",
     "text": [
      "training size input  (68983, 2) , train size output (68983, 2)\n",
      "test size input  (17271, 2) , test size output (17271, 2)\n"
     ]
    }
   ],
   "source": [
    "train_input , train_gd = data_input[:train_size] ,data_gd[:train_size]\n",
    "print(f\"training size input  {train_input.shape} , train size output {train_gd.shape}\")\n",
    "\n",
    "valid_input , valid_gd = data_input[train_size:] ,data_gd[train_size:]\n",
    "print(f\"test size input  {valid_input.shape} , test size output {valid_gd.shape}\")\n",
    "\n"
   ]
  },
  {
   "cell_type": "code",
   "execution_count": 11,
   "metadata": {},
   "outputs": [],
   "source": [
    "\"\"\" creates data sequences for input as well for the lables(output) \n",
    "    each row of this form isc created (x1,y1),(x2,y2),(x3.y3) --> (x_gd,y_gd)\n",
    "    It contains the previous 3 measurements and ground truth of 4th element which is compared with prediction from model\n",
    "\"\"\" \n",
    "\n",
    "def create_dataset(dataset_x,dataset_y,T):\n",
    "    dataX, dataY = [], []\n",
    "    count =0\n",
    "    for t in range(len(dataset_x)-T):\n",
    "        if((t+T)%101 ==0):\n",
    "            count=5\n",
    "        if(count<=5 and count>0):\n",
    "            count =count-1\n",
    "            continue\n",
    "        x = dataset_x[t:t+T]\n",
    "        dataX.append(x)\n",
    "        dataY.append(dataset_y[t + T])\n",
    "        \n",
    "    return np.array(dataX), np.array(dataY)"
   ]
  },
  {
   "cell_type": "code",
   "execution_count": 12,
   "metadata": {},
   "outputs": [
    {
     "data": {
      "text/plain": [
       "(65568, 5, 2)"
      ]
     },
     "execution_count": 12,
     "metadata": {},
     "output_type": "execute_result"
    }
   ],
   "source": [
    "train_input_seqs , train_gd_seq = create_dataset(train_input,train_gd,T)\n",
    "valid_input_seqs , valid_gd_seq = create_dataset(valid_input,valid_gd,T)\n",
    "\n",
    "train_input_seqs.shape"
   ]
  },
  {
   "cell_type": "code",
   "execution_count": 72,
   "metadata": {},
   "outputs": [
    {
     "name": "stdout",
     "output_type": "stream",
     "text": [
      "Epoch 1/100\n",
      "683/683 - 18s - loss: 149.6288 - val_loss: 9.5333\n",
      "Epoch 2/100\n",
      "683/683 - 13s - loss: 9.1532 - val_loss: 8.8116\n",
      "Epoch 3/100\n",
      "683/683 - 13s - loss: 8.7758 - val_loss: 7.8337\n",
      "Epoch 4/100\n",
      "683/683 - 14s - loss: 8.3106 - val_loss: 7.5965\n",
      "Epoch 5/100\n",
      "683/683 - 14s - loss: 8.1065 - val_loss: 7.5055\n",
      "Epoch 6/100\n",
      "683/683 - 13s - loss: 8.1934 - val_loss: 7.7491\n",
      "Epoch 7/100\n",
      "683/683 - 12s - loss: 8.2023 - val_loss: 8.2366\n",
      "Epoch 8/100\n",
      "683/683 - 8s - loss: 8.0307 - val_loss: 7.6050\n",
      "Epoch 9/100\n",
      "683/683 - 8s - loss: 7.9310 - val_loss: 7.8308\n",
      "Epoch 10/100\n",
      "683/683 - 7s - loss: 8.0206 - val_loss: 7.5049\n",
      "Epoch 11/100\n",
      "683/683 - 8s - loss: 7.9505 - val_loss: 8.6126\n",
      "Epoch 12/100\n",
      "683/683 - 8s - loss: 7.7938 - val_loss: 7.4027\n",
      "Epoch 13/100\n",
      "683/683 - 7s - loss: 7.8391 - val_loss: 7.2433\n",
      "Epoch 14/100\n",
      "683/683 - 7s - loss: 7.7620 - val_loss: 7.4044\n",
      "Epoch 15/100\n",
      "683/683 - 7s - loss: 7.8531 - val_loss: 7.4444\n",
      "Epoch 16/100\n",
      "683/683 - 7s - loss: 7.6908 - val_loss: 7.0816\n",
      "Epoch 17/100\n",
      "683/683 - 7s - loss: 7.7045 - val_loss: 7.7409\n",
      "Epoch 18/100\n",
      "683/683 - 7s - loss: 7.6739 - val_loss: 7.2998\n",
      "Epoch 19/100\n",
      "683/683 - 7s - loss: 7.6189 - val_loss: 7.7891\n",
      "Epoch 20/100\n",
      "683/683 - 7s - loss: 7.6751 - val_loss: 7.5701\n",
      "Epoch 21/100\n",
      "683/683 - 7s - loss: 7.6957 - val_loss: 7.4184\n",
      "Epoch 22/100\n",
      "683/683 - 7s - loss: 7.5242 - val_loss: 7.8577\n",
      "Epoch 23/100\n",
      "683/683 - 7s - loss: 7.4310 - val_loss: 7.3804\n",
      "Epoch 24/100\n",
      "683/683 - 7s - loss: 7.4765 - val_loss: 7.0818\n",
      "Epoch 25/100\n",
      "683/683 - 7s - loss: 7.4817 - val_loss: 7.2413\n",
      "Epoch 26/100\n",
      "683/683 - 7s - loss: 7.5417 - val_loss: 7.2863\n",
      "Epoch 27/100\n",
      "683/683 - 7s - loss: 7.4032 - val_loss: 6.9872\n",
      "Epoch 28/100\n",
      "683/683 - 7s - loss: 7.3736 - val_loss: 7.4470\n",
      "Epoch 29/100\n",
      "683/683 - 7s - loss: 7.4653 - val_loss: 8.0535\n",
      "Epoch 30/100\n",
      "683/683 - 7s - loss: 7.4415 - val_loss: 7.0940\n",
      "Epoch 31/100\n",
      "683/683 - 7s - loss: 7.3640 - val_loss: 7.1802\n",
      "Epoch 32/100\n",
      "683/683 - 7s - loss: 7.3752 - val_loss: 6.9365\n",
      "Epoch 33/100\n",
      "683/683 - 7s - loss: 7.4627 - val_loss: 7.6166\n",
      "Epoch 34/100\n",
      "683/683 - 7s - loss: 7.4117 - val_loss: 7.4954\n",
      "Epoch 35/100\n",
      "683/683 - 7s - loss: 7.3561 - val_loss: 7.2059\n",
      "Epoch 36/100\n",
      "683/683 - 7s - loss: 7.3536 - val_loss: 7.2502\n",
      "Epoch 37/100\n",
      "683/683 - -5703s - loss: 7.3354 - val_loss: 7.2195\n",
      "Epoch 38/100\n",
      "683/683 - 7s - loss: 7.2884 - val_loss: 7.7511\n",
      "Epoch 39/100\n",
      "683/683 - 8s - loss: 7.3314 - val_loss: 7.0874\n",
      "Epoch 40/100\n",
      "683/683 - 7s - loss: 7.2918 - val_loss: 7.3068\n",
      "Epoch 41/100\n",
      "683/683 - 7s - loss: 7.1677 - val_loss: 8.1240\n",
      "Epoch 42/100\n",
      "683/683 - 7s - loss: 7.2735 - val_loss: 7.0810\n",
      "Epoch 43/100\n",
      "683/683 - 7s - loss: 7.2190 - val_loss: 6.9609\n",
      "Epoch 44/100\n",
      "683/683 - 7s - loss: 7.2631 - val_loss: 7.0837\n",
      "Epoch 45/100\n",
      "683/683 - 7s - loss: 7.2417 - val_loss: 7.0885\n",
      "Epoch 46/100\n",
      "683/683 - 7s - loss: 7.2104 - val_loss: 7.1539\n",
      "Epoch 47/100\n",
      "683/683 - 8s - loss: 7.2630 - val_loss: 7.1603\n",
      "Epoch 48/100\n",
      "683/683 - 8s - loss: 7.1792 - val_loss: 7.1415\n",
      "Epoch 49/100\n",
      "683/683 - 8s - loss: 7.1005 - val_loss: 7.2811\n",
      "Epoch 50/100\n",
      "683/683 - 8s - loss: 7.1498 - val_loss: 8.2029\n",
      "Epoch 51/100\n",
      "683/683 - 8s - loss: 7.1597 - val_loss: 7.3753\n",
      "Epoch 52/100\n",
      "683/683 - 8s - loss: 7.2118 - val_loss: 7.5147\n",
      "Epoch 53/100\n",
      "683/683 - 7s - loss: 7.1322 - val_loss: 6.9366\n",
      "Epoch 54/100\n",
      "683/683 - 7s - loss: 7.1414 - val_loss: 7.1148\n",
      "Epoch 55/100\n",
      "683/683 - 7s - loss: 7.1245 - val_loss: 6.9853\n",
      "Epoch 56/100\n",
      "683/683 - 7s - loss: 7.0576 - val_loss: 6.9851\n",
      "Epoch 57/100\n",
      "683/683 - 8s - loss: 7.1226 - val_loss: 7.0452\n",
      "Epoch 58/100\n",
      "683/683 - 7s - loss: 7.0566 - val_loss: 7.0539\n",
      "Epoch 59/100\n",
      "683/683 - 7s - loss: 7.0722 - val_loss: 6.9250\n",
      "Epoch 60/100\n",
      "683/683 - 7s - loss: 7.1870 - val_loss: 7.0775\n",
      "Epoch 61/100\n",
      "683/683 - 7s - loss: 7.0366 - val_loss: 6.9678\n",
      "Epoch 62/100\n",
      "683/683 - 7s - loss: 7.0659 - val_loss: 7.1183\n",
      "Epoch 63/100\n",
      "683/683 - 7s - loss: 7.1200 - val_loss: 7.1407\n",
      "Epoch 64/100\n",
      "683/683 - 7s - loss: 7.0283 - val_loss: 7.1591\n",
      "Epoch 65/100\n",
      "683/683 - 8s - loss: 7.0438 - val_loss: 7.0696\n",
      "Epoch 66/100\n",
      "683/683 - 7s - loss: 7.0219 - val_loss: 7.9733\n",
      "Epoch 67/100\n",
      "683/683 - 7s - loss: 7.0956 - val_loss: 7.1849\n",
      "Epoch 68/100\n",
      "683/683 - 8s - loss: 7.0270 - val_loss: 6.9510\n",
      "Epoch 69/100\n",
      "683/683 - 7s - loss: 6.9914 - val_loss: 6.9823\n",
      "Epoch 70/100\n",
      "683/683 - 7s - loss: 7.0529 - val_loss: 7.0546\n",
      "Epoch 71/100\n",
      "683/683 - 7s - loss: 7.0070 - val_loss: 6.9271\n",
      "Epoch 72/100\n",
      "683/683 - 7s - loss: 7.0058 - val_loss: 7.1377\n",
      "Epoch 73/100\n",
      "683/683 - 7s - loss: 6.9567 - val_loss: 7.1734\n",
      "Epoch 74/100\n",
      "683/683 - 7s - loss: 6.9883 - val_loss: 7.1158\n",
      "Epoch 75/100\n",
      "683/683 - 7s - loss: 6.9621 - val_loss: 7.2764\n",
      "Epoch 76/100\n",
      "683/683 - 7s - loss: 7.0088 - val_loss: 6.9714\n",
      "Epoch 77/100\n",
      "683/683 - 7s - loss: 6.9200 - val_loss: 6.9575\n",
      "Epoch 78/100\n",
      "683/683 - 7s - loss: 6.8850 - val_loss: 7.0654\n",
      "Epoch 79/100\n",
      "683/683 - 7s - loss: 6.8805 - val_loss: 7.3527\n",
      "Epoch 80/100\n",
      "683/683 - 7s - loss: 6.8470 - val_loss: 7.1092\n",
      "Epoch 81/100\n",
      "683/683 - 7s - loss: 6.8693 - val_loss: 7.1274\n",
      "Epoch 82/100\n",
      "683/683 - 7s - loss: 6.8641 - val_loss: 7.3152\n",
      "Epoch 83/100\n",
      "683/683 - 7s - loss: 6.9100 - val_loss: 7.5115\n",
      "Epoch 84/100\n",
      "683/683 - 7s - loss: 6.8864 - val_loss: 7.3198\n",
      "Epoch 85/100\n",
      "683/683 - 8s - loss: 6.8284 - val_loss: 7.3313\n",
      "Epoch 86/100\n",
      "683/683 - 8s - loss: 6.8059 - val_loss: 7.2902\n",
      "Epoch 87/100\n",
      "683/683 - 7s - loss: 6.8185 - val_loss: 7.2482\n",
      "Epoch 88/100\n",
      "683/683 - 7s - loss: 6.8294 - val_loss: 7.1356\n",
      "Epoch 89/100\n",
      "683/683 - 7s - loss: 6.8055 - val_loss: 7.1399\n",
      "Epoch 90/100\n",
      "683/683 - 7s - loss: 6.7523 - val_loss: 6.9645\n",
      "Epoch 91/100\n",
      "683/683 - 7s - loss: 6.7164 - val_loss: 7.3388\n",
      "Epoch 92/100\n",
      "683/683 - 7s - loss: 6.8021 - val_loss: 7.1184\n",
      "Epoch 93/100\n",
      "683/683 - 7s - loss: 6.7612 - val_loss: 7.1993\n",
      "Epoch 94/100\n",
      "683/683 - 7s - loss: 6.7124 - val_loss: 7.3146\n",
      "Epoch 95/100\n",
      "683/683 - 7s - loss: 6.7179 - val_loss: 7.4426\n",
      "Epoch 96/100\n",
      "683/683 - 7s - loss: 6.6688 - val_loss: 7.5154\n",
      "Epoch 97/100\n",
      "683/683 - 7s - loss: 6.6865 - val_loss: 7.2121\n",
      "Epoch 98/100\n",
      "683/683 - 7s - loss: 6.6622 - val_loss: 7.2560\n",
      "Epoch 99/100\n",
      "683/683 - 7s - loss: 6.6735 - val_loss: 7.4628\n",
      "Epoch 100/100\n",
      "683/683 - 7s - loss: 6.6901 - val_loss: 7.8754\n"
     ]
    }
   ],
   "source": [
    "adm =Adam(lr=0.001)\n",
    "LSTM_model = Sequential()\n",
    "LSTM_model.add(LSTM(256,input_shape=(T,2)))\n",
    "LSTM_model.add(Dense(128,activation='relu'))\n",
    "LSTM_model.add(Dense(2))\n",
    "LSTM_model.compile(loss ='mse',optimizer=adm)\n",
    "rtu= LSTM_model.fit(train_input_seqs, train_gd_seq, epochs=100, batch_size = 96,verbose=2 ,validation_data=(valid_input_seqs,valid_gd_seq))\n"
   ]
  },
  {
   "cell_type": "code",
   "execution_count": 73,
   "metadata": {},
   "outputs": [
    {
     "data": {
      "text/plain": [
       "<matplotlib.legend.Legend at 0x1c38fcb1d30>"
      ]
     },
     "execution_count": 73,
     "metadata": {},
     "output_type": "execute_result"
    },
    {
     "data": {
      "image/png": "[encoded data removed]",
      "text/plain": [
       "<Figure size 432x288 with 1 Axes>"
      ]
     },
     "metadata": {
      "needs_background": "light"
     },
     "output_type": "display_data"
    }
   ],
   "source": [
    "import matplotlib.pyplot as plt\n",
    "plt.plot(rtu.history['loss'], label='training_loss')\n",
    "plt.plot(rtu.history['val_loss'], label='validation_loss')\n",
    "plt.legend()"
   ]
  },
  {
   "cell_type": "code",
   "execution_count": 17,
   "metadata": {},
   "outputs": [
    {
     "name": "stderr",
     "output_type": "stream",
     "text": [
      "WARNING:absl:Found untraced functions such as lstm_cell_layer_call_and_return_conditional_losses, lstm_cell_layer_call_fn, lstm_cell_layer_call_fn, lstm_cell_layer_call_and_return_conditional_losses, lstm_cell_layer_call_and_return_conditional_losses while saving (showing 5 of 5). These functions will not be directly callable after loading.\n",
      "WARNING:absl:Found untraced functions such as lstm_cell_layer_call_and_return_conditional_losses, lstm_cell_layer_call_fn, lstm_cell_layer_call_fn, lstm_cell_layer_call_and_return_conditional_losses, lstm_cell_layer_call_and_return_conditional_losses while saving (showing 5 of 5). These functions will not be directly callable after loading.\n"
     ]
    },
    {
     "name": "stdout",
     "output_type": "stream",
     "text": [
      "INFO:tensorflow:Assets written to: more_trail_u_new\\assets\n"
     ]
    },
    {
     "name": "stderr",
     "output_type": "stream",
     "text": [
      "INFO:tensorflow:Assets written to: more_trail_u_new\\assets\n"
     ]
    }
   ],
   "source": [
    "#dump(model,open('model.pkl','wb'))\n",
    "LSTM_model.save(\"more_trail_u_new\")\n"
   ]
  },
  {
   "cell_type": "code",
   "execution_count": 76,
   "metadata": {},
   "outputs": [],
   "source": [
    "LSTM_model= load_model(\"more_trail_u_new\")"
   ]
  },
  {
   "cell_type": "code",
   "execution_count": 77,
   "metadata": {},
   "outputs": [],
   "source": [
    "trainPredict = LSTM_model.predict(train_input_seqs)\n",
    "ValidPredict = LSTM_model.predict(valid_input_seqs)\n"
   ]
  },
  {
   "cell_type": "code",
   "execution_count": 78,
   "metadata": {},
   "outputs": [
    {
     "name": "stdout",
     "output_type": "stream",
     "text": [
      "Train Score: 2.6499389 RMSE\n",
      "Test Score: 2.6790761 RMSE\n"
     ]
    }
   ],
   "source": [
    "trainScore = math.sqrt(mean_squared_error(train_gd_seq, trainPredict))\n",
    "print('Train Score: %.7f RMSE' % (trainScore))\n",
    "ValidScore = math.sqrt(mean_squared_error(valid_gd_seq, ValidPredict))\n",
    "print('Test Score: %.7f RMSE' % (ValidScore))\n"
   ]
  },
  {
   "cell_type": "code",
   "execution_count": null,
   "metadata": {},
   "outputs": [],
   "source": [
    "# test data from same training file"
   ]
  },
  {
   "cell_type": "code",
   "execution_count": 20,
   "metadata": {},
   "outputs": [
    {
     "data": {
      "text/html": [
       "<div>\n",
       "<style scoped>\n",
       "    .dataframe tbody tr th:only-of-type {\n",
       "        vertical-align: middle;\n",
       "    }\n",
       "\n",
       "    .dataframe tbody tr th {\n",
       "        vertical-align: top;\n",
       "    }\n",
       "\n",
       "    .dataframe thead th {\n",
       "        text-align: right;\n",
       "    }\n",
       "</style>\n",
       "<table border=\"1\" class=\"dataframe\">\n",
       "  <thead>\n",
       "    <tr style=\"text-align: right;\">\n",
       "      <th></th>\n",
       "      <th>sl_no</th>\n",
       "      <th>iteration</th>\n",
       "      <th>r_meas</th>\n",
       "      <th>phi_meas</th>\n",
       "      <th>rr_meas</th>\n",
       "      <th>x_m</th>\n",
       "      <th>y_m</th>\n",
       "      <th>dx_m</th>\n",
       "      <th>dy_m</th>\n",
       "      <th>r_gd</th>\n",
       "      <th>phi_gd</th>\n",
       "      <th>rr_gd</th>\n",
       "      <th>x_gd</th>\n",
       "      <th>y_gd</th>\n",
       "      <th>dx_gd</th>\n",
       "      <th>dy_gd</th>\n",
       "    </tr>\n",
       "  </thead>\n",
       "  <tbody>\n",
       "    <tr>\n",
       "      <th>0</th>\n",
       "      <td>1</td>\n",
       "      <td>0.0</td>\n",
       "      <td>118.557733</td>\n",
       "      <td>0.003044</td>\n",
       "      <td>0.255106</td>\n",
       "      <td>118.557184</td>\n",
       "      <td>0.360887</td>\n",
       "      <td>0.255105</td>\n",
       "      <td>0.000777</td>\n",
       "      <td>122.163476</td>\n",
       "      <td>0.000031</td>\n",
       "      <td>0.303078</td>\n",
       "      <td>122.163476</td>\n",
       "      <td>0.003750</td>\n",
       "      <td>0.303078</td>\n",
       "      <td>0.000009</td>\n",
       "    </tr>\n",
       "    <tr>\n",
       "      <th>1</th>\n",
       "      <td>1</td>\n",
       "      <td>1.0</td>\n",
       "      <td>120.571556</td>\n",
       "      <td>-0.003406</td>\n",
       "      <td>0.063379</td>\n",
       "      <td>120.570856</td>\n",
       "      <td>-0.410665</td>\n",
       "      <td>0.063379</td>\n",
       "      <td>-0.000216</td>\n",
       "      <td>122.204948</td>\n",
       "      <td>0.000288</td>\n",
       "      <td>0.041473</td>\n",
       "      <td>122.204943</td>\n",
       "      <td>0.035176</td>\n",
       "      <td>0.041473</td>\n",
       "      <td>0.000012</td>\n",
       "    </tr>\n",
       "    <tr>\n",
       "      <th>2</th>\n",
       "      <td>1</td>\n",
       "      <td>2.0</td>\n",
       "      <td>118.427954</td>\n",
       "      <td>-0.005077</td>\n",
       "      <td>-0.154127</td>\n",
       "      <td>118.426428</td>\n",
       "      <td>-0.601236</td>\n",
       "      <td>-0.154125</td>\n",
       "      <td>0.000782</td>\n",
       "      <td>122.027939</td>\n",
       "      <td>0.000666</td>\n",
       "      <td>-0.177010</td>\n",
       "      <td>122.027912</td>\n",
       "      <td>0.081260</td>\n",
       "      <td>-0.177010</td>\n",
       "      <td>-0.000118</td>\n",
       "    </tr>\n",
       "    <tr>\n",
       "      <th>3</th>\n",
       "      <td>1</td>\n",
       "      <td>3.0</td>\n",
       "      <td>121.466013</td>\n",
       "      <td>0.011516</td>\n",
       "      <td>-0.271541</td>\n",
       "      <td>121.457960</td>\n",
       "      <td>1.398717</td>\n",
       "      <td>-0.271523</td>\n",
       "      <td>-0.003127</td>\n",
       "      <td>121.755473</td>\n",
       "      <td>0.001147</td>\n",
       "      <td>-0.272466</td>\n",
       "      <td>121.755392</td>\n",
       "      <td>0.139696</td>\n",
       "      <td>-0.272466</td>\n",
       "      <td>-0.000313</td>\n",
       "    </tr>\n",
       "    <tr>\n",
       "      <th>4</th>\n",
       "      <td>1</td>\n",
       "      <td>4.0</td>\n",
       "      <td>125.982723</td>\n",
       "      <td>0.004073</td>\n",
       "      <td>-0.338679</td>\n",
       "      <td>125.981678</td>\n",
       "      <td>0.513099</td>\n",
       "      <td>-0.338677</td>\n",
       "      <td>-0.001379</td>\n",
       "      <td>121.501160</td>\n",
       "      <td>0.001774</td>\n",
       "      <td>-0.254313</td>\n",
       "      <td>121.500969</td>\n",
       "      <td>0.215603</td>\n",
       "      <td>-0.254312</td>\n",
       "      <td>-0.000451</td>\n",
       "    </tr>\n",
       "  </tbody>\n",
       "</table>\n",
       "</div>"
      ],
      "text/plain": [
       "   sl_no  iteration      r_meas  phi_meas   rr_meas         x_m       y_m  \\\n",
       "0      1        0.0  118.557733  0.003044  0.255106  118.557184  0.360887   \n",
       "1      1        1.0  120.571556 -0.003406  0.063379  120.570856 -0.410665   \n",
       "2      1        2.0  118.427954 -0.005077 -0.154127  118.426428 -0.601236   \n",
       "3      1        3.0  121.466013  0.011516 -0.271541  121.457960  1.398717   \n",
       "4      1        4.0  125.982723  0.004073 -0.338679  125.981678  0.513099   \n",
       "\n",
       "       dx_m      dy_m        r_gd    phi_gd     rr_gd        x_gd      y_gd  \\\n",
       "0  0.255105  0.000777  122.163476  0.000031  0.303078  122.163476  0.003750   \n",
       "1  0.063379 -0.000216  122.204948  0.000288  0.041473  122.204943  0.035176   \n",
       "2 -0.154125  0.000782  122.027939  0.000666 -0.177010  122.027912  0.081260   \n",
       "3 -0.271523 -0.003127  121.755473  0.001147 -0.272466  121.755392  0.139696   \n",
       "4 -0.338677 -0.001379  121.501160  0.001774 -0.254313  121.500969  0.215603   \n",
       "\n",
       "      dx_gd     dy_gd  \n",
       "0  0.303078  0.000009  \n",
       "1  0.041473  0.000012  \n",
       "2 -0.177010 -0.000118  \n",
       "3 -0.272466 -0.000313  \n",
       "4 -0.254312 -0.000451  "
      ]
     },
     "execution_count": 20,
     "metadata": {},
     "output_type": "execute_result"
    }
   ],
   "source": [
    "df_TEST = pd.read_csv(\"data/testing_Data.csv\",names=col_names,header=None)\n",
    "\n",
    "df_TEST.head()\n"
   ]
  },
  {
   "cell_type": "code",
   "execution_count": 21,
   "metadata": {},
   "outputs": [
    {
     "data": {
      "text/plain": [
       "(101101, 16)"
      ]
     },
     "execution_count": 21,
     "metadata": {},
     "output_type": "execute_result"
    }
   ],
   "source": [
    "df_TEST.shape"
   ]
  },
  {
   "cell_type": "code",
   "execution_count": 22,
   "metadata": {},
   "outputs": [
    {
     "data": {
      "text/plain": [
       "(101101, 2)"
      ]
     },
     "execution_count": 22,
     "metadata": {},
     "output_type": "execute_result"
    }
   ],
   "source": [
    "data_TEST = df_TEST[['x_m','y_m','x_gd','y_gd']]\n",
    "data_input_TEST = data_TEST[['x_m','y_m']].values\n",
    "data_input_TEST = data_input_TEST.reshape(-1,2)\n",
    "data_gd_TEST = data_TEST[['x_gd','y_gd']].values\n",
    "data_gd_TEST= data_gd_TEST.reshape(-1,2)\n",
    "data_gd_TEST.shape "
   ]
  },
  {
   "cell_type": "code",
   "execution_count": 23,
   "metadata": {},
   "outputs": [],
   "source": [
    "TEST_input_seqs ,TEST_output_seqs = create_dataset(data_input_TEST,data_gd_TEST,T)"
   ]
  },
  {
   "cell_type": "code",
   "execution_count": 24,
   "metadata": {},
   "outputs": [],
   "source": [
    "predicts = LSTM_model.predict(TEST_input_seqs)"
   ]
  },
  {
   "cell_type": "code",
   "execution_count": 80,
   "metadata": {},
   "outputs": [
    {
     "name": "stdout",
     "output_type": "stream",
     "text": [
      "rmse_p :2.479395813857251 \n",
      "rmse_m:3.62722913300181\n"
     ]
    },
    {
     "data": {
      "image/png": "[encoded data removed]",
      "text/plain": [
       "<Figure size 432x288 with 1 Axes>"
      ]
     },
     "metadata": {
      "needs_background": "light"
     },
     "output_type": "display_data"
    }
   ],
   "source": [
    "i=249\n",
    "predict_b=predicts[(i*96):((i+1)*96)]\n",
    "test_input_for_meas = data_input_TEST[(i*101)+T:(((i+1)*101))]\n",
    "test_gd_for_meas_b = data_gd_TEST[(i*101)+T:(((i+1)*101))] \n",
    "plt.plot(test_gd_for_meas_b[:,0],test_gd_for_meas_b[:,1],'.')\n",
    "plt.plot(predict_b[:,0],predict_b[:,1],'.')\n",
    "plt.plot(test_input_for_meas[:,0],test_input_for_meas[:,1],'.')\n",
    "plt.legend([\"Ground_truth\",\"LSTM_predictions\",\"measurement\"])\n",
    "plt.xlabel(\"x\")\n",
    "plt.ylabel(\"y\")\n",
    "rmse_p = math.sqrt(mean_squared_error(predict_b, test_gd_for_meas_b))\n",
    "print(f\"rmse_p :{rmse_p} \")\n",
    "rmse_m = math.sqrt(mean_squared_error(test_input_for_meas,test_gd_for_meas_b))\n",
    "print(f\"rmse_m:{rmse_m}\")"
   ]
  },
  {
   "cell_type": "code",
   "execution_count": 38,
   "metadata": {},
   "outputs": [
    {
     "data": {
      "text/plain": [
       "<Figure size 432x288 with 0 Axes>"
      ]
     },
     "metadata": {},
     "output_type": "display_data"
    }
   ],
   "source": [
    "for i in range(500):\n",
    "    predict_b=predicts[(i*96):((i+1)*96)]\n",
    "    test_input_for_meas = data_input_TEST[(i*101)+T:(((i+1)*101))]\n",
    "    test_gd_for_meas_b = data_gd_TEST[(i*101)+T:(((i+1)*101))] \n",
    "    plt.plot(test_gd_for_meas_b[:,0],test_gd_for_meas_b[:,1],'.')\n",
    "    plt.plot(predict_b[:,0],predict_b[:,1],'.')\n",
    "    plt.plot(test_input_for_meas[:,0],test_input_for_meas[:,1],'.')\n",
    "    plt.legend([\"ground_truth\",\"predictions\",\"measurement\"])\n",
    "    plt.xlabel(\"x\")\n",
    "    plt.ylabel(\"y\")\n",
    "    rmse_p = math.sqrt(mean_squared_error(predict_b, test_gd_for_meas_b))\n",
    "    rmse_m = math.sqrt(mean_squared_error(test_input_for_meas,test_gd_for_meas_b))\n",
    "    plt.savefig(\"Graph\" + str(i)+\" \" + str(rmse_p) +\" \"+ str(rmse_m) +\".png\", format=\"PNG\")\n",
    "    plt.clf()"
   ]
  },
  {
   "cell_type": "code",
   "execution_count": 30,
   "metadata": {},
   "outputs": [
    {
     "data": {
      "text/plain": [
       "<matplotlib.legend.Legend at 0x1c38d01b3a0>"
      ]
     },
     "execution_count": 30,
     "metadata": {},
     "output_type": "execute_result"
    },
    {
     "data": {
      "image/png": "[encoded data removed]",
      "text/plain": [
       "<Figure size 432x288 with 1 Axes>"
      ]
     },
     "metadata": {
      "needs_background": "light"
     },
     "output_type": "display_data"
    }
   ],
   "source": [
    "\n",
    "all_rmse_p =[]\n",
    "all_rmse_m =[]\n",
    "\n",
    "\n",
    "\n",
    "for i in range(0,120):\n",
    "    predict_b=predicts[(i*96):((i+1)*96)]\n",
    "    test_input_for_meas = data_input_TEST[(i*101)+T:(((i+1)*101))]\n",
    "    test_gd_for_meas_b = data_gd_TEST[(i*101)+T:(((i+1)*101))]    \n",
    "    \n",
    "    rmse_p = math.sqrt(mean_squared_error(predict_b, test_gd_for_meas_b))\n",
    "    rmse_m = math.sqrt(mean_squared_error(test_input_for_meas,test_gd_for_meas_b))\n",
    "    plt.savefig(\"Graph\" + str(i)+\" \" + str(rmse_p) +\" \"+ str(rmse_m) +\".png\", format=\"PNG\")\n",
    "                       \n",
    "    all_rmse_p.append(rmse_p)\n",
    "    all_rmse_m.append(rmse_m)\n",
    "    \n",
    "plt.plot(all_rmse_p)\n",
    "plt.plot(all_rmse_m)\n",
    "plt.legend([\"prediction_gd_rmse\",\"meas_gd_rmse\"])"
   ]
  },
  {
   "cell_type": "code",
   "execution_count": 58,
   "metadata": {},
   "outputs": [],
   "source": [
    "all_rmse_p_a = np.array(all_rmse_p)\n",
    "all_rmse_m_a = np.array(all_rmse_m)\n"
   ]
  },
  {
   "cell_type": "code",
   "execution_count": 144,
   "metadata": {},
   "outputs": [],
   "source": [
    "f=np.array((all_rmse_p_a-all_rmse_m_a)<0)"
   ]
  },
  {
   "cell_type": "code",
   "execution_count": 145,
   "metadata": {},
   "outputs": [
    {
     "data": {
      "text/plain": [
       "484"
      ]
     },
     "execution_count": 145,
     "metadata": {},
     "output_type": "execute_result"
    }
   ],
   "source": [
    "np.count_nonzero(f)"
   ]
  },
  {
   "cell_type": "code",
   "execution_count": null,
   "metadata": {},
   "outputs": [],
   "source": []
  }
 ],
 "metadata": {
  "kernelspec": {
   "display_name": "Python 3",
   "language": "python",
   "name": "python3"
  },
  "language_info": {
   "codemirror_mode": {
    "name": "ipython",
    "version": 3
   },
   "file_extension": ".py",
   "mimetype": "text/x-python",
   "name": "python",
   "nbconvert_exporter": "python",
   "pygments_lexer": "ipython3",
   "version": "3.8.3"
  }
 },
 "nbformat": 4,
 "nbformat_minor": 4
}
