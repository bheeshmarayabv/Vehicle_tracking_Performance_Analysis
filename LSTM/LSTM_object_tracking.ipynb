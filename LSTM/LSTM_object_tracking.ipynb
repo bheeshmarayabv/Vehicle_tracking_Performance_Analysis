{
 "cells": [
  {
   "cell_type": "code",
   "execution_count": 27,
   "metadata": {},
   "outputs": [],
   "source": [
    "import tensorflow as tf\n",
    "from tensorflow.keras.layers import Input, LSTM, GRU, SimpleRNN, Dense, GlobalMaxPool1D\n",
    "from tensorflow.keras.models import Model,Sequential,load_model\n",
    "from tensorflow.keras.optimizers import SGD, Adam\n",
    "\n",
    "import numpy as np\n",
    "import pandas as pd\n",
    "import matplotlib.pyplot as plt\n",
    "from sklearn.preprocessing import  MinMaxScaler ,StandardScaler\n",
    "import math\n",
    "from sklearn.metrics import mean_squared_error ,accuracy_score\n",
    "from pickle import dump, load\n",
    "from math import sqrt\n",
    "from tensorflow.keras.optimizers import SGD ,RMSprop"
   ]
  },
  {
   "cell_type": "code",
   "execution_count": 28,
   "metadata": {},
   "outputs": [
    {
     "name": "stdout",
     "output_type": "stream",
     "text": [
      "2.4.1\n"
     ]
    }
   ],
   "source": [
    "print(tf.__version__)"
   ]
  },
  {
   "cell_type": "code",
   "execution_count": 29,
   "metadata": {},
   "outputs": [],
   "source": [
    "col_names =['sl_no','iteration','r_meas','phi_meas','rr_meas','x_m','y_m','dx_m','dy_m','r_gd','phi_gd','rr_gd','x_gd','y_gd','dx_gd','dy_gd']"
   ]
  },
  {
   "cell_type": "code",
   "execution_count": 30,
   "metadata": {},
   "outputs": [],
   "source": [
    " df= pd.read_csv(\"data/training_data.csv\",names=col_names,header=None)"
   ]
  },
  {
   "cell_type": "code",
   "execution_count": null,
   "metadata": {},
   "outputs": [],
   "source": []
  },
  {
   "cell_type": "code",
   "execution_count": 31,
   "metadata": {},
   "outputs": [
    {
     "data": {
      "text/html": [
       "<div>\n",
       "<style scoped>\n",
       "    .dataframe tbody tr th:only-of-type {\n",
       "        vertical-align: middle;\n",
       "    }\n",
       "\n",
       "    .dataframe tbody tr th {\n",
       "        vertical-align: top;\n",
       "    }\n",
       "\n",
       "    .dataframe thead th {\n",
       "        text-align: right;\n",
       "    }\n",
       "</style>\n",
       "<table border=\"1\" class=\"dataframe\">\n",
       "  <thead>\n",
       "    <tr style=\"text-align: right;\">\n",
       "      <th></th>\n",
       "      <th>sl_no</th>\n",
       "      <th>iteration</th>\n",
       "      <th>r_meas</th>\n",
       "      <th>phi_meas</th>\n",
       "      <th>rr_meas</th>\n",
       "      <th>x_m</th>\n",
       "      <th>y_m</th>\n",
       "      <th>dx_m</th>\n",
       "      <th>dy_m</th>\n",
       "      <th>r_gd</th>\n",
       "      <th>phi_gd</th>\n",
       "      <th>rr_gd</th>\n",
       "      <th>x_gd</th>\n",
       "      <th>y_gd</th>\n",
       "      <th>dx_gd</th>\n",
       "      <th>dy_gd</th>\n",
       "    </tr>\n",
       "  </thead>\n",
       "  <tbody>\n",
       "    <tr>\n",
       "      <th>0</th>\n",
       "      <td>1</td>\n",
       "      <td>0</td>\n",
       "      <td>13.661716</td>\n",
       "      <td>0.006404</td>\n",
       "      <td>-0.176324</td>\n",
       "      <td>13.661436</td>\n",
       "      <td>0.087489</td>\n",
       "      <td>-0.176320</td>\n",
       "      <td>-0.001129</td>\n",
       "      <td>8.857460</td>\n",
       "      <td>0.000044</td>\n",
       "      <td>0.000746</td>\n",
       "      <td>8.857460</td>\n",
       "      <td>0.000391</td>\n",
       "      <td>0.000746</td>\n",
       "      <td>0.000000</td>\n",
       "    </tr>\n",
       "    <tr>\n",
       "      <th>1</th>\n",
       "      <td>1</td>\n",
       "      <td>1</td>\n",
       "      <td>18.462030</td>\n",
       "      <td>-0.017085</td>\n",
       "      <td>0.050058</td>\n",
       "      <td>18.459336</td>\n",
       "      <td>-0.315405</td>\n",
       "      <td>0.050051</td>\n",
       "      <td>-0.000855</td>\n",
       "      <td>8.825450</td>\n",
       "      <td>0.000429</td>\n",
       "      <td>-0.032009</td>\n",
       "      <td>8.825450</td>\n",
       "      <td>0.003786</td>\n",
       "      <td>-0.032009</td>\n",
       "      <td>-0.000014</td>\n",
       "    </tr>\n",
       "    <tr>\n",
       "      <th>2</th>\n",
       "      <td>1</td>\n",
       "      <td>2</td>\n",
       "      <td>6.413294</td>\n",
       "      <td>0.005260</td>\n",
       "      <td>0.005861</td>\n",
       "      <td>6.413205</td>\n",
       "      <td>0.033733</td>\n",
       "      <td>0.005861</td>\n",
       "      <td>0.000031</td>\n",
       "      <td>8.815560</td>\n",
       "      <td>0.001020</td>\n",
       "      <td>-0.009891</td>\n",
       "      <td>8.815555</td>\n",
       "      <td>0.008991</td>\n",
       "      <td>-0.009891</td>\n",
       "      <td>-0.000010</td>\n",
       "    </tr>\n",
       "    <tr>\n",
       "      <th>3</th>\n",
       "      <td>1</td>\n",
       "      <td>3</td>\n",
       "      <td>1.603305</td>\n",
       "      <td>-0.006222</td>\n",
       "      <td>0.035707</td>\n",
       "      <td>1.603274</td>\n",
       "      <td>-0.009976</td>\n",
       "      <td>0.035707</td>\n",
       "      <td>-0.000222</td>\n",
       "      <td>8.905530</td>\n",
       "      <td>0.001560</td>\n",
       "      <td>0.089970</td>\n",
       "      <td>8.905519</td>\n",
       "      <td>0.013895</td>\n",
       "      <td>0.089970</td>\n",
       "      <td>0.000140</td>\n",
       "    </tr>\n",
       "    <tr>\n",
       "      <th>4</th>\n",
       "      <td>1</td>\n",
       "      <td>4</td>\n",
       "      <td>7.389476</td>\n",
       "      <td>-0.015556</td>\n",
       "      <td>0.308614</td>\n",
       "      <td>7.388582</td>\n",
       "      <td>-0.114947</td>\n",
       "      <td>0.308577</td>\n",
       "      <td>-0.004801</td>\n",
       "      <td>9.140382</td>\n",
       "      <td>0.002096</td>\n",
       "      <td>0.234852</td>\n",
       "      <td>9.140361</td>\n",
       "      <td>0.019157</td>\n",
       "      <td>0.234851</td>\n",
       "      <td>0.000492</td>\n",
       "    </tr>\n",
       "  </tbody>\n",
       "</table>\n",
       "</div>"
      ],
      "text/plain": [
       "   sl_no  iteration     r_meas  phi_meas   rr_meas        x_m       y_m  \\\n",
       "0      1          0  13.661716  0.006404 -0.176324  13.661436  0.087489   \n",
       "1      1          1  18.462030 -0.017085  0.050058  18.459336 -0.315405   \n",
       "2      1          2   6.413294  0.005260  0.005861   6.413205  0.033733   \n",
       "3      1          3   1.603305 -0.006222  0.035707   1.603274 -0.009976   \n",
       "4      1          4   7.389476 -0.015556  0.308614   7.388582 -0.114947   \n",
       "\n",
       "       dx_m      dy_m      r_gd    phi_gd     rr_gd      x_gd      y_gd  \\\n",
       "0 -0.176320 -0.001129  8.857460  0.000044  0.000746  8.857460  0.000391   \n",
       "1  0.050051 -0.000855  8.825450  0.000429 -0.032009  8.825450  0.003786   \n",
       "2  0.005861  0.000031  8.815560  0.001020 -0.009891  8.815555  0.008991   \n",
       "3  0.035707 -0.000222  8.905530  0.001560  0.089970  8.905519  0.013895   \n",
       "4  0.308577 -0.004801  9.140382  0.002096  0.234852  9.140361  0.019157   \n",
       "\n",
       "      dx_gd     dy_gd  \n",
       "0  0.000746  0.000000  \n",
       "1 -0.032009 -0.000014  \n",
       "2 -0.009891 -0.000010  \n",
       "3  0.089970  0.000140  \n",
       "4  0.234851  0.000492  "
      ]
     },
     "execution_count": 31,
     "metadata": {},
     "output_type": "execute_result"
    }
   ],
   "source": [
    "df.head()"
   ]
  },
  {
   "cell_type": "code",
   "execution_count": 32,
   "metadata": {},
   "outputs": [],
   "source": [
    "data = df[['x_m','y_m','x_gd','y_gd']]\n",
    "data_input = data[['x_m','y_m']].values\n",
    "data_input = data_input.reshape(-1,2)\n",
    "data_gd = data[['x_gd','y_gd']].values\n",
    "data_gd = data_gd.reshape(-1,2)"
   ]
  },
  {
   "cell_type": "code",
   "execution_count": 33,
   "metadata": {},
   "outputs": [
    {
     "data": {
      "text/plain": [
       "(86254, 2)"
      ]
     },
     "execution_count": 33,
     "metadata": {},
     "output_type": "execute_result"
    }
   ],
   "source": [
    "data_input.shape"
   ]
  },
  {
   "cell_type": "code",
   "execution_count": 34,
   "metadata": {},
   "outputs": [],
   "source": [
    "#scaler_input_trail = MinMaxScaler()\n",
    "#data_input_norm = scaler_input_trail.fit_transform(data_input)\n",
    "#scaler_output_trail = MinMaxScaler()\n",
    "#data_gd_norm = scaler_output_trail.fit_transform(data_gd)\n",
    "\n"
   ]
  },
  {
   "cell_type": "code",
   "execution_count": 35,
   "metadata": {},
   "outputs": [],
   "source": [
    "def get_RMSE(predictions, ground_truth):\n",
    "    x_rmse =sqrt(np.mean((predictions[:,0]-ground_truth[:,0])**2))\n",
    "    y_rmse =sqrt(np.mean((predictions[:,1]-ground_truth[:,1])**2))\n",
    "    return x_rmse,y_rmse\n",
    "    "
   ]
  },
  {
   "cell_type": "code",
   "execution_count": 36,
   "metadata": {},
   "outputs": [],
   "source": [
    "T=5\n",
    "D=2\n",
    "train_size = int(len(data_input)*0.75)"
   ]
  },
  {
   "cell_type": "code",
   "execution_count": 37,
   "metadata": {},
   "outputs": [
    {
     "name": "stdout",
     "output_type": "stream",
     "text": [
      "training size input  (64690, 2) , train size output (64690, 2)\n",
      "test size input  (21564, 2) , test size output (21564, 2)\n"
     ]
    }
   ],
   "source": [
    "train_input , train_gd = data_input[:train_size] ,data_gd[:train_size]\n",
    "print(f\"training size input  {train_input.shape} , train size output {train_gd.shape}\")\n",
    "\n",
    "valid_input , valid_gd = data_input[train_size:] ,data_gd[train_size:]\n",
    "print(f\"test size input  {valid_input.shape} , test size output {valid_gd.shape}\")\n",
    "\n"
   ]
  },
  {
   "cell_type": "code",
   "execution_count": 38,
   "metadata": {},
   "outputs": [],
   "source": [
    "\"\"\" creates data sequences for input as well for the lables(output) \n",
    "    each row of this form isc created (x1,y1),(x2,y2),(x3.y3) --> (x_gd,y_gd)\n",
    "    It contains the previous 3 measurements and ground truth of 4th element which is compared with prediction from model\n",
    "\"\"\" \n",
    "\n",
    "def create_dataset(dataset_x,dataset_y,T):\n",
    "    dataX, dataY = [], []\n",
    "    for t in range(len(dataset_x)-T):\n",
    "        x = dataset_x[t:t+T]\n",
    "        dataX.append(x)\n",
    "        dataY.append(dataset_y[t + T])\n",
    "    return np.array(dataX), np.array(dataY)"
   ]
  },
  {
   "cell_type": "code",
   "execution_count": 39,
   "metadata": {},
   "outputs": [
    {
     "data": {
      "text/plain": [
       "(64685, 5, 2)"
      ]
     },
     "execution_count": 39,
     "metadata": {},
     "output_type": "execute_result"
    }
   ],
   "source": [
    "train_input_seqs , train_gd_seq = create_dataset(train_input,train_gd,T)\n",
    "valid_input_seqs , valid_gd_seq = create_dataset(valid_input,valid_gd,T)\n",
    "\n",
    "train_input_seqs.shape"
   ]
  },
  {
   "cell_type": "code",
   "execution_count": 40,
   "metadata": {},
   "outputs": [
    {
     "name": "stdout",
     "output_type": "stream",
     "text": [
      "Epoch 1/200\n",
      "2022/2022 - 17s - loss: 2058.7959 - val_loss: 1375.2843\n",
      "Epoch 2/200\n",
      "2022/2022 - 3s - loss: 1193.8042 - val_loss: 781.7631\n",
      "Epoch 3/200\n",
      "2022/2022 - 3s - loss: 706.5212 - val_loss: 449.8618\n",
      "Epoch 4/200\n",
      "2022/2022 - 3s - loss: 434.1822 - val_loss: 271.3522\n",
      "Epoch 5/200\n",
      "2022/2022 - 3s - loss: 284.4566 - val_loss: 176.5846\n",
      "Epoch 6/200\n",
      "2022/2022 - 3s - loss: 201.2500 - val_loss: 133.3051\n",
      "Epoch 7/200\n",
      "2022/2022 - 3s - loss: 154.9109 - val_loss: 103.8582\n",
      "Epoch 8/200\n",
      "2022/2022 - 3s - loss: 127.7998 - val_loss: 89.0905\n",
      "Epoch 9/200\n",
      "2022/2022 - 3s - loss: 110.8361 - val_loss: 80.2514\n",
      "Epoch 10/200\n",
      "2022/2022 - 3s - loss: 99.9404 - val_loss: 79.4102\n",
      "Epoch 11/200\n",
      "2022/2022 - 3s - loss: 91.8254 - val_loss: 65.9348\n",
      "Epoch 12/200\n",
      "2022/2022 - 3s - loss: 86.0383 - val_loss: 64.9416\n",
      "Epoch 13/200\n",
      "2022/2022 - 3s - loss: 82.0754 - val_loss: 60.8407\n",
      "Epoch 14/200\n",
      "2022/2022 - 3s - loss: 79.1172 - val_loss: 63.4576\n",
      "Epoch 15/200\n",
      "2022/2022 - 3s - loss: 76.3341 - val_loss: 60.8327\n",
      "Epoch 16/200\n",
      "2022/2022 - 3s - loss: 74.1417 - val_loss: 59.4271\n",
      "Epoch 17/200\n",
      "2022/2022 - 3s - loss: 72.8684 - val_loss: 61.4064\n",
      "Epoch 18/200\n",
      "2022/2022 - 3s - loss: 70.7999 - val_loss: 57.6100\n",
      "Epoch 19/200\n",
      "2022/2022 - 3s - loss: 70.1815 - val_loss: 63.1732\n",
      "Epoch 20/200\n",
      "2022/2022 - 3s - loss: 69.5079 - val_loss: 55.8806\n",
      "Epoch 21/200\n",
      "2022/2022 - 3s - loss: 68.3442 - val_loss: 57.8182\n",
      "Epoch 22/200\n",
      "2022/2022 - 3s - loss: 67.7029 - val_loss: 54.4151\n",
      "Epoch 23/200\n",
      "2022/2022 - 3s - loss: 67.3351 - val_loss: 55.9144\n",
      "Epoch 24/200\n",
      "2022/2022 - 3s - loss: 66.7903 - val_loss: 56.3148\n",
      "Epoch 25/200\n",
      "2022/2022 - 3s - loss: 66.2607 - val_loss: 56.2705\n",
      "Epoch 26/200\n",
      "2022/2022 - 3s - loss: 65.7714 - val_loss: 54.4681\n",
      "Epoch 27/200\n",
      "2022/2022 - 3s - loss: 65.4448 - val_loss: 59.7001\n",
      "Epoch 28/200\n",
      "2022/2022 - 3s - loss: 64.8643 - val_loss: 56.3283\n",
      "Epoch 29/200\n",
      "2022/2022 - 3s - loss: 65.1687 - val_loss: 58.3765\n",
      "Epoch 30/200\n",
      "2022/2022 - 3s - loss: 64.6490 - val_loss: 56.0049\n",
      "Epoch 31/200\n",
      "2022/2022 - 3s - loss: 64.4530 - val_loss: 53.2894\n",
      "Epoch 32/200\n",
      "2022/2022 - 3s - loss: 64.4537 - val_loss: 57.8258\n",
      "Epoch 33/200\n",
      "2022/2022 - 3s - loss: 64.0810 - val_loss: 53.5359\n",
      "Epoch 34/200\n",
      "2022/2022 - 3s - loss: 64.2286 - val_loss: 54.5257\n",
      "Epoch 35/200\n",
      "2022/2022 - 3s - loss: 63.7562 - val_loss: 58.5652\n",
      "Epoch 36/200\n",
      "2022/2022 - 3s - loss: 63.3149 - val_loss: 58.2979\n",
      "Epoch 37/200\n",
      "2022/2022 - 3s - loss: 63.4328 - val_loss: 55.1931\n",
      "Epoch 38/200\n",
      "2022/2022 - 3s - loss: 63.6983 - val_loss: 53.6840\n",
      "Epoch 39/200\n",
      "2022/2022 - 3s - loss: 63.4708 - val_loss: 53.0426\n",
      "Epoch 40/200\n",
      "2022/2022 - 3s - loss: 63.1878 - val_loss: 52.6763\n",
      "Epoch 41/200\n",
      "2022/2022 - 3s - loss: 63.0478 - val_loss: 51.9228\n",
      "Epoch 42/200\n",
      "2022/2022 - 3s - loss: 62.9506 - val_loss: 54.8311\n",
      "Epoch 43/200\n",
      "2022/2022 - 3s - loss: 62.8074 - val_loss: 52.4768\n",
      "Epoch 44/200\n",
      "2022/2022 - 3s - loss: 62.6713 - val_loss: 52.1139\n",
      "Epoch 45/200\n",
      "2022/2022 - 3s - loss: 62.5518 - val_loss: 55.9188\n",
      "Epoch 46/200\n",
      "2022/2022 - 3s - loss: 62.5511 - val_loss: 56.4684\n",
      "Epoch 47/200\n",
      "2022/2022 - 3s - loss: 62.6734 - val_loss: 54.5257\n",
      "Epoch 48/200\n",
      "2022/2022 - 3s - loss: 62.5978 - val_loss: 56.9135\n",
      "Epoch 49/200\n",
      "2022/2022 - 3s - loss: 62.2678 - val_loss: 56.1527\n",
      "Epoch 50/200\n",
      "2022/2022 - 3s - loss: 62.2351 - val_loss: 53.0256\n",
      "Epoch 51/200\n",
      "2022/2022 - 3s - loss: 61.9997 - val_loss: 52.3776\n",
      "Epoch 52/200\n",
      "2022/2022 - 3s - loss: 62.1966 - val_loss: 51.6278\n",
      "Epoch 53/200\n",
      "2022/2022 - 3s - loss: 62.0634 - val_loss: 52.2883\n",
      "Epoch 54/200\n",
      "2022/2022 - 3s - loss: 62.2620 - val_loss: 58.2598\n",
      "Epoch 55/200\n",
      "2022/2022 - 3s - loss: 62.0875 - val_loss: 53.3081\n",
      "Epoch 56/200\n",
      "2022/2022 - 3s - loss: 62.0609 - val_loss: 52.2289\n",
      "Epoch 57/200\n",
      "2022/2022 - 3s - loss: 61.8267 - val_loss: 53.0117\n",
      "Epoch 58/200\n",
      "2022/2022 - 3s - loss: 62.0820 - val_loss: 51.5505\n",
      "Epoch 59/200\n",
      "2022/2022 - 3s - loss: 61.5865 - val_loss: 55.6484\n",
      "Epoch 60/200\n",
      "2022/2022 - 3s - loss: 61.7029 - val_loss: 57.1134\n",
      "Epoch 61/200\n",
      "2022/2022 - 3s - loss: 61.3258 - val_loss: 53.2553\n",
      "Epoch 62/200\n",
      "2022/2022 - 3s - loss: 61.8741 - val_loss: 51.9976\n",
      "Epoch 63/200\n",
      "2022/2022 - 3s - loss: 61.5102 - val_loss: 54.1723\n",
      "Epoch 64/200\n",
      "2022/2022 - 3s - loss: 61.5211 - val_loss: 54.4116\n",
      "Epoch 65/200\n",
      "2022/2022 - 3s - loss: 61.7734 - val_loss: 52.9059\n",
      "Epoch 66/200\n",
      "2022/2022 - 3s - loss: 61.6617 - val_loss: 56.0488\n",
      "Epoch 67/200\n",
      "2022/2022 - 3s - loss: 61.7015 - val_loss: 54.0759\n",
      "Epoch 68/200\n",
      "2022/2022 - 3s - loss: 61.7475 - val_loss: 52.1080\n",
      "Epoch 69/200\n",
      "2022/2022 - 3s - loss: 61.5422 - val_loss: 52.8306\n",
      "Epoch 70/200\n",
      "2022/2022 - 3s - loss: 61.7550 - val_loss: 57.7290\n",
      "Epoch 71/200\n",
      "2022/2022 - 3s - loss: 61.1732 - val_loss: 51.8681\n",
      "Epoch 72/200\n",
      "2022/2022 - 3s - loss: 61.3151 - val_loss: 50.3616\n",
      "Epoch 73/200\n",
      "2022/2022 - 3s - loss: 61.4749 - val_loss: 52.5184\n",
      "Epoch 74/200\n",
      "2022/2022 - 3s - loss: 60.8500 - val_loss: 53.3524\n",
      "Epoch 75/200\n",
      "2022/2022 - 3s - loss: 61.2747 - val_loss: 51.8729\n",
      "Epoch 76/200\n",
      "2022/2022 - 3s - loss: 61.1548 - val_loss: 54.1406\n",
      "Epoch 77/200\n",
      "2022/2022 - 3s - loss: 61.2105 - val_loss: 64.9517\n",
      "Epoch 78/200\n",
      "2022/2022 - 3s - loss: 61.1247 - val_loss: 56.5755\n",
      "Epoch 79/200\n",
      "2022/2022 - 3s - loss: 61.4596 - val_loss: 52.9274\n",
      "Epoch 80/200\n",
      "2022/2022 - 3s - loss: 61.6130 - val_loss: 55.4941\n",
      "Epoch 81/200\n",
      "2022/2022 - 3s - loss: 61.4976 - val_loss: 51.8814\n",
      "Epoch 82/200\n",
      "2022/2022 - 3s - loss: 61.1028 - val_loss: 51.2210\n",
      "Epoch 83/200\n",
      "2022/2022 - 3s - loss: 60.7570 - val_loss: 52.1567\n",
      "Epoch 84/200\n",
      "2022/2022 - 3s - loss: 61.2188 - val_loss: 51.2049\n",
      "Epoch 85/200\n",
      "2022/2022 - 3s - loss: 61.4102 - val_loss: 55.8720\n",
      "Epoch 86/200\n",
      "2022/2022 - 3s - loss: 61.4887 - val_loss: 52.9582\n",
      "Epoch 87/200\n",
      "2022/2022 - 3s - loss: 60.9236 - val_loss: 52.0781\n",
      "Epoch 88/200\n",
      "2022/2022 - 3s - loss: 61.5341 - val_loss: 54.5042\n",
      "Epoch 89/200\n",
      "2022/2022 - 3s - loss: 61.4156 - val_loss: 58.2434\n",
      "Epoch 90/200\n",
      "2022/2022 - 3s - loss: 61.4836 - val_loss: 64.9462\n",
      "Epoch 91/200\n",
      "2022/2022 - 3s - loss: 61.1163 - val_loss: 58.7637\n",
      "Epoch 92/200\n",
      "2022/2022 - 3s - loss: 60.9740 - val_loss: 54.7684\n",
      "Epoch 93/200\n",
      "2022/2022 - 3s - loss: 61.0331 - val_loss: 60.5915\n",
      "Epoch 94/200\n",
      "2022/2022 - 3s - loss: 60.8795 - val_loss: 50.9198\n",
      "Epoch 95/200\n",
      "2022/2022 - 3s - loss: 60.7739 - val_loss: 51.5735\n",
      "Epoch 96/200\n",
      "2022/2022 - 3s - loss: 61.0024 - val_loss: 54.8481\n",
      "Epoch 97/200\n",
      "2022/2022 - 3s - loss: 61.0448 - val_loss: 51.6783\n",
      "Epoch 98/200\n",
      "2022/2022 - 3s - loss: 61.4025 - val_loss: 51.4770\n",
      "Epoch 99/200\n",
      "2022/2022 - 3s - loss: 61.4604 - val_loss: 52.6776\n",
      "Epoch 100/200\n",
      "2022/2022 - 3s - loss: 61.0445 - val_loss: 53.3310\n",
      "Epoch 101/200\n",
      "2022/2022 - 3s - loss: 61.1812 - val_loss: 50.8501\n",
      "Epoch 102/200\n",
      "2022/2022 - 3s - loss: 60.7568 - val_loss: 52.8825\n",
      "Epoch 103/200\n",
      "2022/2022 - 3s - loss: 61.5484 - val_loss: 54.9696\n",
      "Epoch 104/200\n",
      "2022/2022 - 3s - loss: 61.0579 - val_loss: 51.7091\n",
      "Epoch 105/200\n",
      "2022/2022 - 3s - loss: 60.8798 - val_loss: 51.6097\n",
      "Epoch 106/200\n",
      "2022/2022 - 3s - loss: 60.7986 - val_loss: 55.3274\n",
      "Epoch 107/200\n",
      "2022/2022 - 3s - loss: 60.9949 - val_loss: 51.3811\n",
      "Epoch 108/200\n",
      "2022/2022 - 3s - loss: 60.8172 - val_loss: 53.8916\n",
      "Epoch 109/200\n",
      "2022/2022 - 3s - loss: 61.4488 - val_loss: 58.5231\n",
      "Epoch 110/200\n",
      "2022/2022 - 3s - loss: 61.1429 - val_loss: 51.9876\n",
      "Epoch 111/200\n",
      "2022/2022 - 3s - loss: 61.1560 - val_loss: 55.4128\n",
      "Epoch 112/200\n",
      "2022/2022 - 3s - loss: 60.8509 - val_loss: 55.4045\n",
      "Epoch 113/200\n",
      "2022/2022 - 3s - loss: 61.2432 - val_loss: 55.9722\n",
      "Epoch 114/200\n",
      "2022/2022 - 3s - loss: 61.0319 - val_loss: 55.3386\n",
      "Epoch 115/200\n",
      "2022/2022 - 3s - loss: 60.8915 - val_loss: 50.7792\n",
      "Epoch 116/200\n",
      "2022/2022 - 3s - loss: 60.4924 - val_loss: 50.7151\n",
      "Epoch 117/200\n",
      "2022/2022 - 3s - loss: 61.0535 - val_loss: 51.3629\n",
      "Epoch 118/200\n",
      "2022/2022 - 3s - loss: 61.0785 - val_loss: 51.5561\n",
      "Epoch 119/200\n",
      "2022/2022 - 3s - loss: 61.1039 - val_loss: 51.8610\n",
      "Epoch 120/200\n",
      "2022/2022 - 3s - loss: 61.0527 - val_loss: 57.8179\n",
      "Epoch 121/200\n",
      "2022/2022 - 3s - loss: 61.0805 - val_loss: 52.0682\n",
      "Epoch 122/200\n",
      "2022/2022 - 3s - loss: 61.1166 - val_loss: 51.6696\n",
      "Epoch 123/200\n",
      "2022/2022 - 3s - loss: 61.0465 - val_loss: 53.6141\n",
      "Epoch 124/200\n",
      "2022/2022 - 3s - loss: 61.0984 - val_loss: 52.8343\n",
      "Epoch 125/200\n",
      "2022/2022 - 3s - loss: 60.6938 - val_loss: 59.7000\n",
      "Epoch 126/200\n",
      "2022/2022 - 3s - loss: 61.1602 - val_loss: 52.6575\n",
      "Epoch 127/200\n",
      "2022/2022 - 3s - loss: 61.0663 - val_loss: 51.4074\n",
      "Epoch 128/200\n",
      "2022/2022 - 3s - loss: 60.8725 - val_loss: 50.8811\n"
     ]
    },
    {
     "name": "stdout",
     "output_type": "stream",
     "text": [
      "Epoch 129/200\n",
      "2022/2022 - 3s - loss: 60.7139 - val_loss: 50.8807\n",
      "Epoch 130/200\n",
      "2022/2022 - 3s - loss: 60.9273 - val_loss: 50.8761\n",
      "Epoch 131/200\n",
      "2022/2022 - 3s - loss: 60.6054 - val_loss: 53.0514\n",
      "Epoch 132/200\n",
      "2022/2022 - 3s - loss: 61.2609 - val_loss: 50.3621\n",
      "Epoch 133/200\n",
      "2022/2022 - 3s - loss: 61.1076 - val_loss: 58.0859\n",
      "Epoch 134/200\n",
      "2022/2022 - 3s - loss: 61.0376 - val_loss: 54.5347\n",
      "Epoch 135/200\n",
      "2022/2022 - 3s - loss: 60.9349 - val_loss: 52.5113\n",
      "Epoch 136/200\n",
      "2022/2022 - 3s - loss: 61.0185 - val_loss: 50.4518\n",
      "Epoch 137/200\n",
      "2022/2022 - 3s - loss: 61.3717 - val_loss: 51.5065\n",
      "Epoch 138/200\n",
      "2022/2022 - 3s - loss: 60.6889 - val_loss: 51.7758\n",
      "Epoch 139/200\n",
      "2022/2022 - 3s - loss: 60.5469 - val_loss: 53.0471\n",
      "Epoch 140/200\n",
      "2022/2022 - 3s - loss: 61.2197 - val_loss: 52.0871\n",
      "Epoch 141/200\n",
      "2022/2022 - 3s - loss: 61.1540 - val_loss: 51.1970\n",
      "Epoch 142/200\n",
      "2022/2022 - 3s - loss: 60.7710 - val_loss: 53.6044\n",
      "Epoch 143/200\n",
      "2022/2022 - 3s - loss: 60.9903 - val_loss: 52.1740\n",
      "Epoch 144/200\n",
      "2022/2022 - 3s - loss: 61.4312 - val_loss: 51.5366\n",
      "Epoch 145/200\n",
      "2022/2022 - 3s - loss: 61.3339 - val_loss: 50.8836\n",
      "Epoch 146/200\n",
      "2022/2022 - 3s - loss: 60.9704 - val_loss: 52.7212\n",
      "Epoch 147/200\n",
      "2022/2022 - 3s - loss: 60.6631 - val_loss: 51.9515\n",
      "Epoch 148/200\n",
      "2022/2022 - 3s - loss: 61.1059 - val_loss: 52.3703\n",
      "Epoch 149/200\n",
      "2022/2022 - 3s - loss: 60.8851 - val_loss: 53.5140\n",
      "Epoch 150/200\n",
      "2022/2022 - 3s - loss: 60.8166 - val_loss: 51.8730\n",
      "Epoch 151/200\n",
      "2022/2022 - 3s - loss: 60.9953 - val_loss: 51.2191\n",
      "Epoch 152/200\n",
      "2022/2022 - 3s - loss: 60.5303 - val_loss: 50.4035\n",
      "Epoch 153/200\n",
      "2022/2022 - 3s - loss: 60.7600 - val_loss: 51.0940\n",
      "Epoch 154/200\n",
      "2022/2022 - 3s - loss: 60.8527 - val_loss: 53.8680\n",
      "Epoch 155/200\n",
      "2022/2022 - 3s - loss: 60.8850 - val_loss: 51.9888\n",
      "Epoch 156/200\n",
      "2022/2022 - 3s - loss: 60.7064 - val_loss: 51.4473\n",
      "Epoch 157/200\n",
      "2022/2022 - 3s - loss: 60.8502 - val_loss: 51.8772\n",
      "Epoch 158/200\n",
      "2022/2022 - 3s - loss: 60.7597 - val_loss: 54.7430\n",
      "Epoch 159/200\n",
      "2022/2022 - 3s - loss: 60.9030 - val_loss: 52.5792\n",
      "Epoch 160/200\n",
      "2022/2022 - 3s - loss: 60.8580 - val_loss: 52.0757\n",
      "Epoch 161/200\n",
      "2022/2022 - 3s - loss: 61.0711 - val_loss: 52.4426\n",
      "Epoch 162/200\n",
      "2022/2022 - 3s - loss: 61.0797 - val_loss: 52.5671\n",
      "Epoch 163/200\n",
      "2022/2022 - 3s - loss: 61.0229 - val_loss: 51.7202\n",
      "Epoch 164/200\n",
      "2022/2022 - 3s - loss: 60.9064 - val_loss: 52.2732\n",
      "Epoch 165/200\n",
      "2022/2022 - 3s - loss: 60.7449 - val_loss: 52.3955\n",
      "Epoch 166/200\n",
      "2022/2022 - 3s - loss: 60.9385 - val_loss: 53.0718\n",
      "Epoch 167/200\n",
      "2022/2022 - 3s - loss: 60.6530 - val_loss: 52.2565\n",
      "Epoch 168/200\n",
      "2022/2022 - 3s - loss: 60.3281 - val_loss: 51.4543\n",
      "Epoch 169/200\n",
      "2022/2022 - 3s - loss: 60.5240 - val_loss: 52.6868\n",
      "Epoch 170/200\n",
      "2022/2022 - 3s - loss: 60.7512 - val_loss: 54.2581\n",
      "Epoch 171/200\n",
      "2022/2022 - 3s - loss: 60.2809 - val_loss: 52.0004\n",
      "Epoch 172/200\n",
      "2022/2022 - 3s - loss: 60.6377 - val_loss: 51.8216\n",
      "Epoch 173/200\n",
      "2022/2022 - 3s - loss: 60.7780 - val_loss: 51.3097\n",
      "Epoch 174/200\n",
      "2022/2022 - 3s - loss: 60.7641 - val_loss: 53.7419\n",
      "Epoch 175/200\n",
      "2022/2022 - 3s - loss: 61.1566 - val_loss: 52.5638\n",
      "Epoch 176/200\n",
      "2022/2022 - 3s - loss: 60.8263 - val_loss: 58.1449\n",
      "Epoch 177/200\n",
      "2022/2022 - 3s - loss: 60.7253 - val_loss: 53.2255\n",
      "Epoch 178/200\n",
      "2022/2022 - 3s - loss: 60.9649 - val_loss: 54.7305\n",
      "Epoch 179/200\n",
      "2022/2022 - 3s - loss: 60.7044 - val_loss: 51.5899\n",
      "Epoch 180/200\n",
      "2022/2022 - 3s - loss: 60.4461 - val_loss: 52.4745\n",
      "Epoch 181/200\n",
      "2022/2022 - 3s - loss: 60.8708 - val_loss: 52.4226\n",
      "Epoch 182/200\n",
      "2022/2022 - 3s - loss: 60.7793 - val_loss: 51.4935\n",
      "Epoch 183/200\n",
      "2022/2022 - 3s - loss: 61.1310 - val_loss: 54.7661\n",
      "Epoch 184/200\n",
      "2022/2022 - 3s - loss: 60.5314 - val_loss: 51.5736\n",
      "Epoch 185/200\n",
      "2022/2022 - 3s - loss: 60.7308 - val_loss: 51.0724\n",
      "Epoch 186/200\n",
      "2022/2022 - 3s - loss: 60.4767 - val_loss: 51.3088\n",
      "Epoch 187/200\n",
      "2022/2022 - 3s - loss: 60.4981 - val_loss: 51.4307\n",
      "Epoch 188/200\n",
      "2022/2022 - 3s - loss: 60.4861 - val_loss: 51.7435\n",
      "Epoch 189/200\n",
      "2022/2022 - 3s - loss: 60.7204 - val_loss: 51.3706\n",
      "Epoch 190/200\n",
      "2022/2022 - 3s - loss: 60.8075 - val_loss: 51.0073\n",
      "Epoch 191/200\n",
      "2022/2022 - 3s - loss: 60.3958 - val_loss: 51.3092\n",
      "Epoch 192/200\n",
      "2022/2022 - 3s - loss: 60.6505 - val_loss: 50.7780\n",
      "Epoch 193/200\n",
      "2022/2022 - 3s - loss: 60.6355 - val_loss: 51.0593\n",
      "Epoch 194/200\n",
      "2022/2022 - 3s - loss: 60.5507 - val_loss: 51.7921\n",
      "Epoch 195/200\n",
      "2022/2022 - 3s - loss: 60.3510 - val_loss: 51.8271\n",
      "Epoch 196/200\n",
      "2022/2022 - 3s - loss: 60.9357 - val_loss: 53.3321\n",
      "Epoch 197/200\n",
      "2022/2022 - 3s - loss: 60.7935 - val_loss: 51.5185\n",
      "Epoch 198/200\n",
      "2022/2022 - 3s - loss: 60.5356 - val_loss: 52.4329\n",
      "Epoch 199/200\n",
      "2022/2022 - 3s - loss: 60.3317 - val_loss: 51.9912\n",
      "Epoch 200/200\n",
      "2022/2022 - 3s - loss: 60.9375 - val_loss: 52.2056\n"
     ]
    }
   ],
   "source": [
    "adm =RMSprop(lr=0.001)\n",
    "model_trail_u = Sequential()\n",
    "model_trail_u.add(LSTM(16,input_shape=(T,2)))\n",
    "#model_trail.add(LSTM(32))\n",
    "model_trail_u.add(Dense(2))\n",
    "model_trail_u.compile(loss ='mse',optimizer=adm)\n",
    "rtu= model_trail_u.fit(train_input_seqs, train_gd_seq, epochs=200, batch_size = 32,verbose=2 ,validation_data=(valid_input_seqs,valid_gd_seq))\n"
   ]
  },
  {
   "cell_type": "code",
   "execution_count": 41,
   "metadata": {},
   "outputs": [
    {
     "data": {
      "text/plain": [
       "<matplotlib.legend.Legend at 0x248b3027760>"
      ]
     },
     "execution_count": 41,
     "metadata": {},
     "output_type": "execute_result"
    },
    {
     "data": {
      "image/png": "[encoded data removed]",
      "text/plain": [
       "<Figure size 432x288 with 1 Axes>"
      ]
     },
     "metadata": {
      "needs_background": "light"
     },
     "output_type": "display_data"
    }
   ],
   "source": [
    "import matplotlib.pyplot as plt\n",
    "plt.plot(rtu.history['loss'], label='training_loss')\n",
    "plt.plot(rtu.history['val_loss'], label='validation_loss')\n",
    "plt.legend()"
   ]
  },
  {
   "cell_type": "code",
   "execution_count": 85,
   "metadata": {},
   "outputs": [
    {
     "name": "stderr",
     "output_type": "stream",
     "text": [
      "WARNING:absl:Found untraced functions such as lstm_cell_3_layer_call_and_return_conditional_losses, lstm_cell_3_layer_call_fn, lstm_cell_3_layer_call_fn, lstm_cell_3_layer_call_and_return_conditional_losses, lstm_cell_3_layer_call_and_return_conditional_losses while saving (showing 5 of 5). These functions will not be directly callable after loading.\n",
      "WARNING:absl:Found untraced functions such as lstm_cell_3_layer_call_and_return_conditional_losses, lstm_cell_3_layer_call_fn, lstm_cell_3_layer_call_fn, lstm_cell_3_layer_call_and_return_conditional_losses, lstm_cell_3_layer_call_and_return_conditional_losses while saving (showing 5 of 5). These functions will not be directly callable after loading.\n"
     ]
    },
    {
     "name": "stdout",
     "output_type": "stream",
     "text": [
      "INFO:tensorflow:Assets written to: more_trail_u\\assets\n"
     ]
    },
    {
     "name": "stderr",
     "output_type": "stream",
     "text": [
      "INFO:tensorflow:Assets written to: more_trail_u\\assets\n"
     ]
    }
   ],
   "source": [
    "#dump(model,open('model.pkl','wb'))\n",
    "model_trail_u.save(\"more_trail_u\")\n"
   ]
  },
  {
   "cell_type": "code",
   "execution_count": 14,
   "metadata": {},
   "outputs": [],
   "source": [
    "model_trail_u= load_model(\"more_trail_u\")"
   ]
  },
  {
   "cell_type": "code",
   "execution_count": 15,
   "metadata": {},
   "outputs": [],
   "source": [
    "trainPredict = model_trail_u.predict(train_input_seqs)\n",
    "ValidPredict = model_trail_u.predict(valid_input_seqs)\n"
   ]
  },
  {
   "cell_type": "code",
   "execution_count": 16,
   "metadata": {},
   "outputs": [
    {
     "name": "stdout",
     "output_type": "stream",
     "text": [
      "Train Score: 7.7629827 RMSE\n",
      "Test Score: 7.2901418 RMSE\n"
     ]
    }
   ],
   "source": [
    "trainScore = math.sqrt(mean_squared_error(train_gd_seq, trainPredict))\n",
    "print('Train Score: %.7f RMSE' % (trainScore))\n",
    "ValidScore = math.sqrt(mean_squared_error(valid_gd_seq, ValidPredict))\n",
    "print('Test Score: %.7f RMSE' % (ValidScore))\n"
   ]
  },
  {
   "cell_type": "code",
   "execution_count": null,
   "metadata": {},
   "outputs": [],
   "source": [
    "# test data from same training file"
   ]
  },
  {
   "cell_type": "code",
   "execution_count": 25,
   "metadata": {},
   "outputs": [
    {
     "data": {
      "text/html": [
       "<div>\n",
       "<style scoped>\n",
       "    .dataframe tbody tr th:only-of-type {\n",
       "        vertical-align: middle;\n",
       "    }\n",
       "\n",
       "    .dataframe tbody tr th {\n",
       "        vertical-align: top;\n",
       "    }\n",
       "\n",
       "    .dataframe thead th {\n",
       "        text-align: right;\n",
       "    }\n",
       "</style>\n",
       "<table border=\"1\" class=\"dataframe\">\n",
       "  <thead>\n",
       "    <tr style=\"text-align: right;\">\n",
       "      <th></th>\n",
       "      <th>sl_no</th>\n",
       "      <th>iteration</th>\n",
       "      <th>r_meas</th>\n",
       "      <th>phi_meas</th>\n",
       "      <th>rr_meas</th>\n",
       "      <th>x_m</th>\n",
       "      <th>y_m</th>\n",
       "      <th>dx_m</th>\n",
       "      <th>dy_m</th>\n",
       "      <th>r_gd</th>\n",
       "      <th>phi_gd</th>\n",
       "      <th>rr_gd</th>\n",
       "      <th>x_gd</th>\n",
       "      <th>y_gd</th>\n",
       "      <th>dx_gd</th>\n",
       "      <th>dy_gd</th>\n",
       "    </tr>\n",
       "  </thead>\n",
       "  <tbody>\n",
       "    <tr>\n",
       "      <th>0</th>\n",
       "      <td>1</td>\n",
       "      <td>0.0</td>\n",
       "      <td>118.557733</td>\n",
       "      <td>0.003044</td>\n",
       "      <td>0.255106</td>\n",
       "      <td>118.557184</td>\n",
       "      <td>0.360887</td>\n",
       "      <td>0.255105</td>\n",
       "      <td>0.000777</td>\n",
       "      <td>122.163476</td>\n",
       "      <td>0.000031</td>\n",
       "      <td>0.303078</td>\n",
       "      <td>122.163476</td>\n",
       "      <td>0.003750</td>\n",
       "      <td>0.303078</td>\n",
       "      <td>0.000009</td>\n",
       "    </tr>\n",
       "    <tr>\n",
       "      <th>1</th>\n",
       "      <td>1</td>\n",
       "      <td>1.0</td>\n",
       "      <td>120.571556</td>\n",
       "      <td>-0.003406</td>\n",
       "      <td>0.063379</td>\n",
       "      <td>120.570856</td>\n",
       "      <td>-0.410665</td>\n",
       "      <td>0.063379</td>\n",
       "      <td>-0.000216</td>\n",
       "      <td>122.204948</td>\n",
       "      <td>0.000288</td>\n",
       "      <td>0.041473</td>\n",
       "      <td>122.204943</td>\n",
       "      <td>0.035176</td>\n",
       "      <td>0.041473</td>\n",
       "      <td>0.000012</td>\n",
       "    </tr>\n",
       "    <tr>\n",
       "      <th>2</th>\n",
       "      <td>1</td>\n",
       "      <td>2.0</td>\n",
       "      <td>118.427954</td>\n",
       "      <td>-0.005077</td>\n",
       "      <td>-0.154127</td>\n",
       "      <td>118.426428</td>\n",
       "      <td>-0.601236</td>\n",
       "      <td>-0.154125</td>\n",
       "      <td>0.000782</td>\n",
       "      <td>122.027939</td>\n",
       "      <td>0.000666</td>\n",
       "      <td>-0.177010</td>\n",
       "      <td>122.027912</td>\n",
       "      <td>0.081260</td>\n",
       "      <td>-0.177010</td>\n",
       "      <td>-0.000118</td>\n",
       "    </tr>\n",
       "    <tr>\n",
       "      <th>3</th>\n",
       "      <td>1</td>\n",
       "      <td>3.0</td>\n",
       "      <td>121.466013</td>\n",
       "      <td>0.011516</td>\n",
       "      <td>-0.271541</td>\n",
       "      <td>121.457960</td>\n",
       "      <td>1.398717</td>\n",
       "      <td>-0.271523</td>\n",
       "      <td>-0.003127</td>\n",
       "      <td>121.755473</td>\n",
       "      <td>0.001147</td>\n",
       "      <td>-0.272466</td>\n",
       "      <td>121.755392</td>\n",
       "      <td>0.139696</td>\n",
       "      <td>-0.272466</td>\n",
       "      <td>-0.000313</td>\n",
       "    </tr>\n",
       "    <tr>\n",
       "      <th>4</th>\n",
       "      <td>1</td>\n",
       "      <td>4.0</td>\n",
       "      <td>125.982723</td>\n",
       "      <td>0.004073</td>\n",
       "      <td>-0.338679</td>\n",
       "      <td>125.981678</td>\n",
       "      <td>0.513099</td>\n",
       "      <td>-0.338677</td>\n",
       "      <td>-0.001379</td>\n",
       "      <td>121.501160</td>\n",
       "      <td>0.001774</td>\n",
       "      <td>-0.254313</td>\n",
       "      <td>121.500969</td>\n",
       "      <td>0.215603</td>\n",
       "      <td>-0.254312</td>\n",
       "      <td>-0.000451</td>\n",
       "    </tr>\n",
       "  </tbody>\n",
       "</table>\n",
       "</div>"
      ],
      "text/plain": [
       "   sl_no  iteration      r_meas  phi_meas   rr_meas         x_m       y_m  \\\n",
       "0      1        0.0  118.557733  0.003044  0.255106  118.557184  0.360887   \n",
       "1      1        1.0  120.571556 -0.003406  0.063379  120.570856 -0.410665   \n",
       "2      1        2.0  118.427954 -0.005077 -0.154127  118.426428 -0.601236   \n",
       "3      1        3.0  121.466013  0.011516 -0.271541  121.457960  1.398717   \n",
       "4      1        4.0  125.982723  0.004073 -0.338679  125.981678  0.513099   \n",
       "\n",
       "       dx_m      dy_m        r_gd    phi_gd     rr_gd        x_gd      y_gd  \\\n",
       "0  0.255105  0.000777  122.163476  0.000031  0.303078  122.163476  0.003750   \n",
       "1  0.063379 -0.000216  122.204948  0.000288  0.041473  122.204943  0.035176   \n",
       "2 -0.154125  0.000782  122.027939  0.000666 -0.177010  122.027912  0.081260   \n",
       "3 -0.271523 -0.003127  121.755473  0.001147 -0.272466  121.755392  0.139696   \n",
       "4 -0.338677 -0.001379  121.501160  0.001774 -0.254313  121.500969  0.215603   \n",
       "\n",
       "      dx_gd     dy_gd  \n",
       "0  0.303078  0.000009  \n",
       "1  0.041473  0.000012  \n",
       "2 -0.177010 -0.000118  \n",
       "3 -0.272466 -0.000313  \n",
       "4 -0.254312 -0.000451  "
      ]
     },
     "execution_count": 25,
     "metadata": {},
     "output_type": "execute_result"
    }
   ],
   "source": [
    "df_TEST = pd.read_csv(\"data/testing_Data.csv\",names=col_names,header=None)\n",
    "\n",
    "df_TEST.head()\n"
   ]
  },
  {
   "cell_type": "code",
   "execution_count": 26,
   "metadata": {},
   "outputs": [
    {
     "data": {
      "text/plain": [
       "(101101, 16)"
      ]
     },
     "execution_count": 26,
     "metadata": {},
     "output_type": "execute_result"
    }
   ],
   "source": [
    "df_TEST.shape"
   ]
  },
  {
   "cell_type": "code",
   "execution_count": 19,
   "metadata": {},
   "outputs": [
    {
     "data": {
      "text/plain": [
       "(101101, 2)"
      ]
     },
     "execution_count": 19,
     "metadata": {},
     "output_type": "execute_result"
    }
   ],
   "source": [
    "data_TEST = df_TEST[['x_m','y_m','x_gd','y_gd']]\n",
    "data_input_TEST = data_TEST[['x_m','y_m']].values\n",
    "data_input_TEST = data_input_TEST.reshape(-1,2)\n",
    "data_gd_TEST = data_TEST[['x_gd','y_gd']].values\n",
    "data_gd_TEST= data_gd_TEST.reshape(-1,2)\n",
    "data_gd_TEST.shape "
   ]
  },
  {
   "cell_type": "code",
   "execution_count": 20,
   "metadata": {},
   "outputs": [],
   "source": [
    "TEST_input_seqs ,TEST_output_seqs = create_dataset(data_input_TEST,data_gd_TEST,T)"
   ]
  },
  {
   "cell_type": "code",
   "execution_count": 21,
   "metadata": {},
   "outputs": [],
   "source": [
    "predicts = model_trail_u.predict(TEST_input_seqs)"
   ]
  },
  {
   "cell_type": "code",
   "execution_count": 50,
   "metadata": {},
   "outputs": [
    {
     "name": "stdout",
     "output_type": "stream",
     "text": [
      "rmse_p :7.031107304378758 \n",
      "rmse_m:3.8957378940889384\n"
     ]
    },
    {
     "data": {
      "image/png": "[encoded data removed]",
      "text/plain": [
       "<Figure size 432x288 with 1 Axes>"
      ]
     },
     "metadata": {
      "needs_background": "light"
     },
     "output_type": "display_data"
    }
   ],
   "source": [
    "i=85\n",
    "predict_b=predicts[(i*101):((i+1)*101)-T]\n",
    "test_input_for_meas = data_input_TEST[(i*101)+T:(((i+1)*101))]\n",
    "test_gd_for_meas_b = data_gd_TEST[(i*101)+T:(((i+1)*101))] \n",
    "plt.plot(test_gd_for_meas_b[:,0],test_gd_for_meas_b[:,1],'.')\n",
    "plt.plot(predict_b[:,0],predict_b[:,1],'.')\n",
    "plt.plot(test_input_for_meas[:,0],test_input_for_meas[:,1],'.')\n",
    "plt.legend([\"ground_truth\",\"predictions\",\"measurement\"])\n",
    "plt.xlabel(\"x\")\n",
    "plt.ylabel(\"y\")\n",
    "rmse_p = math.sqrt(mean_squared_error(predict_b, test_gd_for_meas_b))\n",
    "print(f\"rmse_p :{rmse_p} \")\n",
    "rmse_m = math.sqrt(mean_squared_error(test_input_for_meas,test_gd_for_meas_b))\n",
    "print(f\"rmse_m:{rmse_m}\")"
   ]
  },
  {
   "cell_type": "code",
   "execution_count": 31,
   "metadata": {},
   "outputs": [
    {
     "data": {
      "text/plain": [
       "<matplotlib.legend.Legend at 0x1f776a73d90>"
      ]
     },
     "execution_count": 31,
     "metadata": {},
     "output_type": "execute_result"
    },
    {
     "data": {
      "image/png": "[encoded data removed]",
      "text/plain": [
       "<Figure size 432x288 with 1 Axes>"
      ]
     },
     "metadata": {
      "needs_background": "light"
     },
     "output_type": "display_data"
    }
   ],
   "source": [
    "\n",
    "all_rmse_p =[]\n",
    "all_rmse_m =[]\n",
    "\n",
    "predicts = model_trail_u.predict(TEST_input_seqs)\n",
    "\n",
    "for i in range(0,120):\n",
    "    predict_b=predicts[(i*101):((i+1)*101)-T]\n",
    "    test_input_for_meas = data_input_TEST[(i*101)+T:(((i+1)*101))]\n",
    "    test_gd_for_meas_b = data_gd_TEST[(i*101)+T:(((i+1)*101))]    \n",
    "    \n",
    "    rmse_p = math.sqrt(mean_squared_error(predict_b, test_gd_for_meas_b))\n",
    "    rmse_m = math.sqrt(mean_squared_error(test_input_for_meas,test_gd_for_meas_b))\n",
    "                       \n",
    "    all_rmse_p.append(rmse_p)\n",
    "    all_rmse_m.append(rmse_m)\n",
    "    \n",
    "plt.plot(all_rmse_p)\n",
    "plt.plot(all_rmse_m)\n",
    "plt.legend([\"prediction_gd_rmse\",\"meas_gd_rmse\"])"
   ]
  },
  {
   "cell_type": "code",
   "execution_count": 32,
   "metadata": {},
   "outputs": [],
   "source": [
    "all_rmse_p_a = np.array(all_rmse_p)\n",
    "all_rmse_m_a = np.array(all_rmse_m)\n"
   ]
  },
  {
   "cell_type": "code",
   "execution_count": 33,
   "metadata": {},
   "outputs": [],
   "source": [
    "f=np.array((all_rmse_p_a-all_rmse_m_a)<0)"
   ]
  },
  {
   "cell_type": "code",
   "execution_count": 34,
   "metadata": {},
   "outputs": [
    {
     "data": {
      "text/plain": [
       "102"
      ]
     },
     "execution_count": 34,
     "metadata": {},
     "output_type": "execute_result"
    }
   ],
   "source": [
    "np.count_nonzero(f)"
   ]
  },
  {
   "cell_type": "code",
   "execution_count": null,
   "metadata": {},
   "outputs": [],
   "source": []
  }
 ],
 "metadata": {
  "kernelspec": {
   "display_name": "Python 3",
   "language": "python",
   "name": "python3"
  },
  "language_info": {
   "codemirror_mode": {
    "name": "ipython",
    "version": 3
   },
   "file_extension": ".py",
   "mimetype": "text/x-python",
   "name": "python",
   "nbconvert_exporter": "python",
   "pygments_lexer": "ipython3",
   "version": "3.8.3"
  }
 },
 "nbformat": 4,
 "nbformat_minor": 4
}
