{
 "cells": [
  {
   "cell_type": "code",
   "execution_count": 3,
   "metadata": {},
   "outputs": [],
   "source": [
    "import tensorflow as tf\n",
    "from tensorflow.keras.layers import Input, LSTM, GRU, SimpleRNN, Dense, GlobalMaxPool1D\n",
    "from tensorflow.keras.models import Model,Sequential,load_model\n",
    "from tensorflow.keras.optimizers import SGD, Adam\n",
    "\n",
    "import numpy as np\n",
    "import pandas as pd\n",
    "import matplotlib.pyplot as plt\n",
    "from sklearn.preprocessing import  MinMaxScaler ,StandardScaler\n",
    "import math\n",
    "from sklearn.metrics import mean_squared_error ,accuracy_score\n",
    "from pickle import dump, load\n",
    "from math import sqrt\n",
    "from tensorflow.keras.optimizers import SGD ,RMSprop\n",
    "import datetime"
   ]
  },
  {
   "cell_type": "code",
   "execution_count": 4,
   "metadata": {},
   "outputs": [],
   "source": [
    "col_names =['sl_no','iteration','r_meas','phi_meas','rr_meas','x_m','y_m','dx_m','dy_m','r_gd','phi_gd','rr_gd','x_gd','y_gd','dx_gd','dy_gd']"
   ]
  },
  {
   "cell_type": "code",
   "execution_count": 13,
   "metadata": {},
   "outputs": [],
   "source": [
    " df= pd.read_csv(\"data/training_data.csv\",names=col_names,header=None)"
   ]
  },
  {
   "cell_type": "code",
   "execution_count": null,
   "metadata": {},
   "outputs": [],
   "source": []
  },
  {
   "cell_type": "code",
   "execution_count": 14,
   "metadata": {},
   "outputs": [
    {
     "data": {
      "text/html": [
       "<div>\n",
       "<style scoped>\n",
       "    .dataframe tbody tr th:only-of-type {\n",
       "        vertical-align: middle;\n",
       "    }\n",
       "\n",
       "    .dataframe tbody tr th {\n",
       "        vertical-align: top;\n",
       "    }\n",
       "\n",
       "    .dataframe thead th {\n",
       "        text-align: right;\n",
       "    }\n",
       "</style>\n",
       "<table border=\"1\" class=\"dataframe\">\n",
       "  <thead>\n",
       "    <tr style=\"text-align: right;\">\n",
       "      <th></th>\n",
       "      <th>sl_no</th>\n",
       "      <th>iteration</th>\n",
       "      <th>r_meas</th>\n",
       "      <th>phi_meas</th>\n",
       "      <th>rr_meas</th>\n",
       "      <th>x_m</th>\n",
       "      <th>y_m</th>\n",
       "      <th>dx_m</th>\n",
       "      <th>dy_m</th>\n",
       "      <th>r_gd</th>\n",
       "      <th>phi_gd</th>\n",
       "      <th>rr_gd</th>\n",
       "      <th>x_gd</th>\n",
       "      <th>y_gd</th>\n",
       "      <th>dx_gd</th>\n",
       "      <th>dy_gd</th>\n",
       "    </tr>\n",
       "  </thead>\n",
       "  <tbody>\n",
       "    <tr>\n",
       "      <th>0</th>\n",
       "      <td>1</td>\n",
       "      <td>0</td>\n",
       "      <td>13.661716</td>\n",
       "      <td>0.006404</td>\n",
       "      <td>-0.176324</td>\n",
       "      <td>13.661436</td>\n",
       "      <td>0.087489</td>\n",
       "      <td>-0.176320</td>\n",
       "      <td>-0.001129</td>\n",
       "      <td>8.857460</td>\n",
       "      <td>0.000044</td>\n",
       "      <td>0.000746</td>\n",
       "      <td>8.857460</td>\n",
       "      <td>0.000391</td>\n",
       "      <td>0.000746</td>\n",
       "      <td>0.000000</td>\n",
       "    </tr>\n",
       "    <tr>\n",
       "      <th>1</th>\n",
       "      <td>1</td>\n",
       "      <td>1</td>\n",
       "      <td>18.462030</td>\n",
       "      <td>-0.017085</td>\n",
       "      <td>0.050058</td>\n",
       "      <td>18.459336</td>\n",
       "      <td>-0.315405</td>\n",
       "      <td>0.050051</td>\n",
       "      <td>-0.000855</td>\n",
       "      <td>8.825450</td>\n",
       "      <td>0.000429</td>\n",
       "      <td>-0.032009</td>\n",
       "      <td>8.825450</td>\n",
       "      <td>0.003786</td>\n",
       "      <td>-0.032009</td>\n",
       "      <td>-0.000014</td>\n",
       "    </tr>\n",
       "    <tr>\n",
       "      <th>2</th>\n",
       "      <td>1</td>\n",
       "      <td>2</td>\n",
       "      <td>6.413294</td>\n",
       "      <td>0.005260</td>\n",
       "      <td>0.005861</td>\n",
       "      <td>6.413205</td>\n",
       "      <td>0.033733</td>\n",
       "      <td>0.005861</td>\n",
       "      <td>0.000031</td>\n",
       "      <td>8.815560</td>\n",
       "      <td>0.001020</td>\n",
       "      <td>-0.009891</td>\n",
       "      <td>8.815555</td>\n",
       "      <td>0.008991</td>\n",
       "      <td>-0.009891</td>\n",
       "      <td>-0.000010</td>\n",
       "    </tr>\n",
       "    <tr>\n",
       "      <th>3</th>\n",
       "      <td>1</td>\n",
       "      <td>3</td>\n",
       "      <td>1.603305</td>\n",
       "      <td>-0.006222</td>\n",
       "      <td>0.035707</td>\n",
       "      <td>1.603274</td>\n",
       "      <td>-0.009976</td>\n",
       "      <td>0.035707</td>\n",
       "      <td>-0.000222</td>\n",
       "      <td>8.905530</td>\n",
       "      <td>0.001560</td>\n",
       "      <td>0.089970</td>\n",
       "      <td>8.905519</td>\n",
       "      <td>0.013895</td>\n",
       "      <td>0.089970</td>\n",
       "      <td>0.000140</td>\n",
       "    </tr>\n",
       "    <tr>\n",
       "      <th>4</th>\n",
       "      <td>1</td>\n",
       "      <td>4</td>\n",
       "      <td>7.389476</td>\n",
       "      <td>-0.015556</td>\n",
       "      <td>0.308614</td>\n",
       "      <td>7.388582</td>\n",
       "      <td>-0.114947</td>\n",
       "      <td>0.308577</td>\n",
       "      <td>-0.004801</td>\n",
       "      <td>9.140382</td>\n",
       "      <td>0.002096</td>\n",
       "      <td>0.234852</td>\n",
       "      <td>9.140361</td>\n",
       "      <td>0.019157</td>\n",
       "      <td>0.234851</td>\n",
       "      <td>0.000492</td>\n",
       "    </tr>\n",
       "  </tbody>\n",
       "</table>\n",
       "</div>"
      ],
      "text/plain": [
       "   sl_no  iteration     r_meas  phi_meas   rr_meas        x_m       y_m  \\\n",
       "0      1          0  13.661716  0.006404 -0.176324  13.661436  0.087489   \n",
       "1      1          1  18.462030 -0.017085  0.050058  18.459336 -0.315405   \n",
       "2      1          2   6.413294  0.005260  0.005861   6.413205  0.033733   \n",
       "3      1          3   1.603305 -0.006222  0.035707   1.603274 -0.009976   \n",
       "4      1          4   7.389476 -0.015556  0.308614   7.388582 -0.114947   \n",
       "\n",
       "       dx_m      dy_m      r_gd    phi_gd     rr_gd      x_gd      y_gd  \\\n",
       "0 -0.176320 -0.001129  8.857460  0.000044  0.000746  8.857460  0.000391   \n",
       "1  0.050051 -0.000855  8.825450  0.000429 -0.032009  8.825450  0.003786   \n",
       "2  0.005861  0.000031  8.815560  0.001020 -0.009891  8.815555  0.008991   \n",
       "3  0.035707 -0.000222  8.905530  0.001560  0.089970  8.905519  0.013895   \n",
       "4  0.308577 -0.004801  9.140382  0.002096  0.234852  9.140361  0.019157   \n",
       "\n",
       "      dx_gd     dy_gd  \n",
       "0  0.000746  0.000000  \n",
       "1 -0.032009 -0.000014  \n",
       "2 -0.009891 -0.000010  \n",
       "3  0.089970  0.000140  \n",
       "4  0.234851  0.000492  "
      ]
     },
     "execution_count": 14,
     "metadata": {},
     "output_type": "execute_result"
    }
   ],
   "source": [
    "df.head()"
   ]
  },
  {
   "cell_type": "code",
   "execution_count": 15,
   "metadata": {},
   "outputs": [],
   "source": [
    "data = df[['x_m','y_m','x_gd','y_gd']]\n",
    "data_input = data[['x_m','y_m']].values\n",
    "data_input = data_input.reshape(-1,2)\n",
    "data_gd = data[['x_gd','y_gd']].values\n",
    "data_gd = data_gd.reshape(-1,2)"
   ]
  },
  {
   "cell_type": "code",
   "execution_count": 16,
   "metadata": {},
   "outputs": [
    {
     "data": {
      "text/plain": [
       "(86254, 2)"
      ]
     },
     "execution_count": 16,
     "metadata": {},
     "output_type": "execute_result"
    }
   ],
   "source": [
    "data_input.shape"
   ]
  },
  {
   "cell_type": "code",
   "execution_count": 17,
   "metadata": {},
   "outputs": [],
   "source": [
    "#scaler_input_trail = MinMaxScaler()\n",
    "#data_input_norm = scaler_input_trail.fit_transform(data_input)\n",
    "#scaler_output_trail = MinMaxScaler()\n",
    "#data_gd_norm = scaler_output_trail.fit_transform(data_gd)\n",
    "\n"
   ]
  },
  {
   "cell_type": "code",
   "execution_count": 18,
   "metadata": {},
   "outputs": [],
   "source": [
    "def get_RMSE(predictions, ground_truth):\n",
    "    x_rmse =sqrt(np.mean((predictions[:,0]-ground_truth[:,0])**2))\n",
    "    y_rmse =sqrt(np.mean((predictions[:,1]-ground_truth[:,1])**2))\n",
    "    return x_rmse,y_rmse\n",
    "    "
   ]
  },
  {
   "cell_type": "code",
   "execution_count": 19,
   "metadata": {},
   "outputs": [],
   "source": [
    "T=5\n",
    "D=2\n",
    "train_size = int(len(data_input)*0.75)"
   ]
  },
  {
   "cell_type": "code",
   "execution_count": 20,
   "metadata": {},
   "outputs": [
    {
     "name": "stdout",
     "output_type": "stream",
     "text": [
      "training size input  (64690, 2) , train size output (64690, 2)\n",
      "test size input  (21564, 2) , test size output (21564, 2)\n"
     ]
    }
   ],
   "source": [
    "train_input , train_gd = data_input[:train_size] ,data_gd[:train_size]\n",
    "print(f\"training size input  {train_input.shape} , train size output {train_gd.shape}\")\n",
    "\n",
    "valid_input , valid_gd = data_input[train_size:] ,data_gd[train_size:]\n",
    "print(f\"test size input  {valid_input.shape} , test size output {valid_gd.shape}\")\n",
    "\n"
   ]
  },
  {
   "cell_type": "code",
   "execution_count": 21,
   "metadata": {},
   "outputs": [],
   "source": [
    "\"\"\" creates data sequences for input as well for the lables(output) \n",
    "    each row of this form isc created (x1,y1),(x2,y2),(x3.y3) --> (x_gd,y_gd)\n",
    "    It contains the previous 3 measurements and ground truth of 4th element which is compared with prediction from model\n",
    "\"\"\" \n",
    "\n",
    "def create_dataset(dataset_x,dataset_y,T):\n",
    "    dataX, dataY = [], []\n",
    "    for t in range(len(dataset_x)-T):\n",
    "        x = dataset_x[t:t+T]\n",
    "        dataX.append(x)\n",
    "        dataY.append(dataset_y[t + T])\n",
    "    return np.array(dataX), np.array(dataY)"
   ]
  },
  {
   "cell_type": "code",
   "execution_count": 22,
   "metadata": {},
   "outputs": [
    {
     "data": {
      "text/plain": [
       "(64685, 5, 2)"
      ]
     },
     "execution_count": 22,
     "metadata": {},
     "output_type": "execute_result"
    }
   ],
   "source": [
    "train_input_seqs , train_gd_seq = create_dataset(train_input,train_gd,T)\n",
    "valid_input_seqs , valid_gd_seq = create_dataset(valid_input,valid_gd,T)\n",
    "\n",
    "train_input_seqs.shape"
   ]
  },
  {
   "cell_type": "markdown",
   "metadata": {
    "scrolled": false
   },
   "source": [
    "adm =RMSprop(lr=0.001)\n",
    "model_trail_u = Sequential()\n",
    "model_trail_u.add(LSTM(16,input_shape=(T,2)))\n",
    "model_trail_u.add(Dense(2))\n",
    "model_trail_u.compile(loss ='mse',optimizer=adm)\n",
    "rtu= model_trail_u.fit(train_input_seqs, train_gd_seq, epochs=200, batch_size = 32,verbose=2 ,validation_data=(valid_input_seqs,valid_gd_seq))\n"
   ]
  },
  {
   "cell_type": "code",
   "execution_count": 19,
   "metadata": {},
   "outputs": [
    {
     "data": {
      "text/plain": [
       "<matplotlib.legend.Legend at 0x226b474af70>"
      ]
     },
     "execution_count": 19,
     "metadata": {},
     "output_type": "execute_result"
    },
    {
     "data": {
      "image/png": "[encoded data removed]",
      "text/plain": [
       "<Figure size 432x288 with 1 Axes>"
      ]
     },
     "metadata": {
      "needs_background": "light"
     },
     "output_type": "display_data"
    }
   ],
   "source": [
    "import matplotlib.pyplot as plt\n",
    "plt.plot(rtu.history['loss'], label='loss')\n",
    "plt.plot(rtu.history['val_loss'], label='val_loss')\n",
    "plt.legend()"
   ]
  },
  {
   "cell_type": "code",
   "execution_count": 336,
   "metadata": {},
   "outputs": [
    {
     "name": "stderr",
     "output_type": "stream",
     "text": [
      "WARNING:absl:Found untraced functions such as lstm_cell_1_layer_call_and_return_conditional_losses, lstm_cell_1_layer_call_fn, lstm_cell_1_layer_call_fn, lstm_cell_1_layer_call_and_return_conditional_losses, lstm_cell_1_layer_call_and_return_conditional_losses while saving (showing 5 of 5). These functions will not be directly callable after loading.\n",
      "WARNING:absl:Found untraced functions such as lstm_cell_1_layer_call_and_return_conditional_losses, lstm_cell_1_layer_call_fn, lstm_cell_1_layer_call_fn, lstm_cell_1_layer_call_and_return_conditional_losses, lstm_cell_1_layer_call_and_return_conditional_losses while saving (showing 5 of 5). These functions will not be directly callable after loading.\n"
     ]
    },
    {
     "name": "stdout",
     "output_type": "stream",
     "text": [
      "INFO:tensorflow:Assets written to: more_trail_u\\assets\n"
     ]
    },
    {
     "name": "stderr",
     "output_type": "stream",
     "text": [
      "INFO:tensorflow:Assets written to: more_trail_u\\assets\n"
     ]
    }
   ],
   "source": [
    "#dump(model,open('model.pkl','wb'))\n",
    "model_trail_u.save(\"more_trail_u\")\n"
   ]
  },
  {
   "cell_type": "code",
   "execution_count": 23,
   "metadata": {},
   "outputs": [],
   "source": [
    "model_trail_u= load_model(\"more_trail_u\")"
   ]
  },
  {
   "cell_type": "code",
   "execution_count": 24,
   "metadata": {},
   "outputs": [],
   "source": [
    "trainPredict = model_trail_u.predict(train_input_seqs)\n",
    "ValidPredict = model_trail_u.predict(valid_input_seqs)\n"
   ]
  },
  {
   "cell_type": "code",
   "execution_count": 25,
   "metadata": {},
   "outputs": [
    {
     "name": "stdout",
     "output_type": "stream",
     "text": [
      "Train Score: 7.7629827 RMSE\n",
      "Test Score: 7.2901418 RMSE\n"
     ]
    }
   ],
   "source": [
    "trainScore = math.sqrt(mean_squared_error(train_gd_seq, trainPredict))\n",
    "print('Train Score: %.7f RMSE' % (trainScore))\n",
    "ValidScore = math.sqrt(mean_squared_error(valid_gd_seq, ValidPredict))\n",
    "print('Test Score: %.7f RMSE' % (ValidScore))\n"
   ]
  },
  {
   "cell_type": "code",
   "execution_count": 26,
   "metadata": {},
   "outputs": [],
   "source": [
    "# test data from same training file"
   ]
  },
  {
   "cell_type": "code",
   "execution_count": 27,
   "metadata": {},
   "outputs": [
    {
     "data": {
      "text/html": [
       "<div>\n",
       "<style scoped>\n",
       "    .dataframe tbody tr th:only-of-type {\n",
       "        vertical-align: middle;\n",
       "    }\n",
       "\n",
       "    .dataframe tbody tr th {\n",
       "        vertical-align: top;\n",
       "    }\n",
       "\n",
       "    .dataframe thead th {\n",
       "        text-align: right;\n",
       "    }\n",
       "</style>\n",
       "<table border=\"1\" class=\"dataframe\">\n",
       "  <thead>\n",
       "    <tr style=\"text-align: right;\">\n",
       "      <th></th>\n",
       "      <th>sl_no</th>\n",
       "      <th>iteration</th>\n",
       "      <th>r_meas</th>\n",
       "      <th>phi_meas</th>\n",
       "      <th>rr_meas</th>\n",
       "      <th>x_m</th>\n",
       "      <th>y_m</th>\n",
       "      <th>dx_m</th>\n",
       "      <th>dy_m</th>\n",
       "      <th>r_gd</th>\n",
       "      <th>phi_gd</th>\n",
       "      <th>rr_gd</th>\n",
       "      <th>x_gd</th>\n",
       "      <th>y_gd</th>\n",
       "      <th>dx_gd</th>\n",
       "      <th>dy_gd</th>\n",
       "    </tr>\n",
       "  </thead>\n",
       "  <tbody>\n",
       "    <tr>\n",
       "      <th>0</th>\n",
       "      <td>1</td>\n",
       "      <td>0.0</td>\n",
       "      <td>118.557733</td>\n",
       "      <td>0.003044</td>\n",
       "      <td>0.255106</td>\n",
       "      <td>118.557184</td>\n",
       "      <td>0.360887</td>\n",
       "      <td>0.255105</td>\n",
       "      <td>0.000777</td>\n",
       "      <td>122.163476</td>\n",
       "      <td>0.000031</td>\n",
       "      <td>0.303078</td>\n",
       "      <td>122.163476</td>\n",
       "      <td>0.003750</td>\n",
       "      <td>0.303078</td>\n",
       "      <td>0.000009</td>\n",
       "    </tr>\n",
       "    <tr>\n",
       "      <th>1</th>\n",
       "      <td>1</td>\n",
       "      <td>1.0</td>\n",
       "      <td>120.571556</td>\n",
       "      <td>-0.003406</td>\n",
       "      <td>0.063379</td>\n",
       "      <td>120.570856</td>\n",
       "      <td>-0.410665</td>\n",
       "      <td>0.063379</td>\n",
       "      <td>-0.000216</td>\n",
       "      <td>122.204948</td>\n",
       "      <td>0.000288</td>\n",
       "      <td>0.041473</td>\n",
       "      <td>122.204943</td>\n",
       "      <td>0.035176</td>\n",
       "      <td>0.041473</td>\n",
       "      <td>0.000012</td>\n",
       "    </tr>\n",
       "    <tr>\n",
       "      <th>2</th>\n",
       "      <td>1</td>\n",
       "      <td>2.0</td>\n",
       "      <td>118.427954</td>\n",
       "      <td>-0.005077</td>\n",
       "      <td>-0.154127</td>\n",
       "      <td>118.426428</td>\n",
       "      <td>-0.601236</td>\n",
       "      <td>-0.154125</td>\n",
       "      <td>0.000782</td>\n",
       "      <td>122.027939</td>\n",
       "      <td>0.000666</td>\n",
       "      <td>-0.177010</td>\n",
       "      <td>122.027912</td>\n",
       "      <td>0.081260</td>\n",
       "      <td>-0.177010</td>\n",
       "      <td>-0.000118</td>\n",
       "    </tr>\n",
       "    <tr>\n",
       "      <th>3</th>\n",
       "      <td>1</td>\n",
       "      <td>3.0</td>\n",
       "      <td>121.466013</td>\n",
       "      <td>0.011516</td>\n",
       "      <td>-0.271541</td>\n",
       "      <td>121.457960</td>\n",
       "      <td>1.398717</td>\n",
       "      <td>-0.271523</td>\n",
       "      <td>-0.003127</td>\n",
       "      <td>121.755473</td>\n",
       "      <td>0.001147</td>\n",
       "      <td>-0.272466</td>\n",
       "      <td>121.755392</td>\n",
       "      <td>0.139696</td>\n",
       "      <td>-0.272466</td>\n",
       "      <td>-0.000313</td>\n",
       "    </tr>\n",
       "    <tr>\n",
       "      <th>4</th>\n",
       "      <td>1</td>\n",
       "      <td>4.0</td>\n",
       "      <td>125.982723</td>\n",
       "      <td>0.004073</td>\n",
       "      <td>-0.338679</td>\n",
       "      <td>125.981678</td>\n",
       "      <td>0.513099</td>\n",
       "      <td>-0.338677</td>\n",
       "      <td>-0.001379</td>\n",
       "      <td>121.501160</td>\n",
       "      <td>0.001774</td>\n",
       "      <td>-0.254313</td>\n",
       "      <td>121.500969</td>\n",
       "      <td>0.215603</td>\n",
       "      <td>-0.254312</td>\n",
       "      <td>-0.000451</td>\n",
       "    </tr>\n",
       "  </tbody>\n",
       "</table>\n",
       "</div>"
      ],
      "text/plain": [
       "   sl_no  iteration      r_meas  phi_meas   rr_meas         x_m       y_m  \\\n",
       "0      1        0.0  118.557733  0.003044  0.255106  118.557184  0.360887   \n",
       "1      1        1.0  120.571556 -0.003406  0.063379  120.570856 -0.410665   \n",
       "2      1        2.0  118.427954 -0.005077 -0.154127  118.426428 -0.601236   \n",
       "3      1        3.0  121.466013  0.011516 -0.271541  121.457960  1.398717   \n",
       "4      1        4.0  125.982723  0.004073 -0.338679  125.981678  0.513099   \n",
       "\n",
       "       dx_m      dy_m        r_gd    phi_gd     rr_gd        x_gd      y_gd  \\\n",
       "0  0.255105  0.000777  122.163476  0.000031  0.303078  122.163476  0.003750   \n",
       "1  0.063379 -0.000216  122.204948  0.000288  0.041473  122.204943  0.035176   \n",
       "2 -0.154125  0.000782  122.027939  0.000666 -0.177010  122.027912  0.081260   \n",
       "3 -0.271523 -0.003127  121.755473  0.001147 -0.272466  121.755392  0.139696   \n",
       "4 -0.338677 -0.001379  121.501160  0.001774 -0.254313  121.500969  0.215603   \n",
       "\n",
       "      dx_gd     dy_gd  \n",
       "0  0.303078  0.000009  \n",
       "1  0.041473  0.000012  \n",
       "2 -0.177010 -0.000118  \n",
       "3 -0.272466 -0.000313  \n",
       "4 -0.254312 -0.000451  "
      ]
     },
     "execution_count": 27,
     "metadata": {},
     "output_type": "execute_result"
    }
   ],
   "source": [
    "df_TEST = pd.read_csv(\"data/testing_data.csv\",names=col_names,header=None)\n",
    "\n",
    "df_TEST.head()\n"
   ]
  },
  {
   "cell_type": "code",
   "execution_count": 28,
   "metadata": {},
   "outputs": [
    {
     "data": {
      "text/plain": [
       "(101101, 16)"
      ]
     },
     "execution_count": 28,
     "metadata": {},
     "output_type": "execute_result"
    }
   ],
   "source": [
    "df_TEST.shape"
   ]
  },
  {
   "cell_type": "code",
   "execution_count": 29,
   "metadata": {},
   "outputs": [
    {
     "data": {
      "text/plain": [
       "(101101, 2)"
      ]
     },
     "execution_count": 29,
     "metadata": {},
     "output_type": "execute_result"
    }
   ],
   "source": [
    "data_TEST = df_TEST[['x_m','y_m','x_gd','y_gd']]\n",
    "data_input_TEST = data_TEST[['x_m','y_m']].values\n",
    "data_input_TEST = data_input_TEST.reshape(-1,2)\n",
    "data_gd_TEST = data_TEST[['x_gd','y_gd']].values\n",
    "data_gd_TEST= data_gd_TEST.reshape(-1,2)\n",
    "data_gd_TEST.shape "
   ]
  },
  {
   "cell_type": "code",
   "execution_count": 30,
   "metadata": {},
   "outputs": [],
   "source": [
    "TEST_input_seqs ,TEST_output_seqs = create_dataset(data_input_TEST,data_gd_TEST,T)"
   ]
  },
  {
   "cell_type": "code",
   "execution_count": 31,
   "metadata": {},
   "outputs": [],
   "source": [
    "model_trail_u = load_model('more_trail_u')"
   ]
  },
  {
   "cell_type": "code",
   "execution_count": 32,
   "metadata": {},
   "outputs": [],
   "source": [
    "predicts = model_trail_u.predict(TEST_input_seqs)"
   ]
  },
  {
   "cell_type": "code",
   "execution_count": 38,
   "metadata": {},
   "outputs": [
    {
     "name": "stdout",
     "output_type": "stream",
     "text": [
      "(96, 2)\n"
     ]
    },
    {
     "data": {
      "image/png": "[encoded data removed]",
      "text/plain": [
       "<Figure size 432x288 with 1 Axes>"
      ]
     },
     "metadata": {
      "needs_background": "light"
     },
     "output_type": "display_data"
    }
   ],
   "source": [
    "i=107\n",
    "  \n",
    "predict_b=predicts[(i*101):((i+1)*101)-T]\n",
    "\n",
    "test_input_for_meas = data_input_TEST[(i*101)+T:(((i+1)*101))]\n",
    "test_gd_for_meas_b = data_gd_TEST[(i*101)+T:(((i+1)*101))] \n",
    "print(test_gd_for_meas_b.shape)\n",
    "rmse_p = math.sqrt(mean_squared_error(predict_b, test_gd_for_meas_b))\n",
    "rmse_m = math.sqrt(mean_squared_error(test_input_for_meas,test_gd_for_meas_b))\n",
    "\n",
    "plt.plot(test_gd_for_meas_b[:,0],test_gd_for_meas_b[:,1],'.')\n",
    "plt.plot(predict_b[:,0],predict_b[:,1],'.')\n",
    "plt.plot(test_input_for_meas[:,0],test_input_for_meas[:,1],'.')\n",
    "plt.legend([\"ground_truth \",\"predictions\"])\n",
    "plt.xlabel(\"x \")\n",
    "plt.ylabel(\"y\")\n",
    "plt.savefig(\"Graph\" + str(i)+\" \" + str(rmse_p) +\" \"+ str(rmse_m) +\".png\", format=\"PNG\")\n",
    "#plt.savefig(\"Graph\" + str(i)+\" \" + str(rmse_p) +\" \"+ str(rmse_m) +\".png\", format=\"PNG\")\n"
   ]
  },
  {
   "cell_type": "code",
   "execution_count": 33,
   "metadata": {},
   "outputs": [
    {
     "data": {
      "text/plain": [
       "<Figure size 432x288 with 0 Axes>"
      ]
     },
     "metadata": {},
     "output_type": "display_data"
    }
   ],
   "source": [
    "\n",
    "\n",
    "for i in range(500,999):  \n",
    "    predict_b=predicts[(i*101):((i+1)*101)-T]\n",
    "\n",
    "    test_input_for_meas = data_input_TEST[(i*101)+T:(((i+1)*101))]\n",
    "    test_gd_for_meas_b = data_gd_TEST[(i*101)+T:(((i+1)*101))] \n",
    "    \n",
    "    rmse_p = math.sqrt(mean_squared_error(predict_b, test_gd_for_meas_b))\n",
    "    rmse_m = math.sqrt(mean_squared_error(test_input_for_meas,test_gd_for_meas_b))\n",
    "\n",
    "    plt.plot(test_gd_for_meas_b[:,0],test_gd_for_meas_b[:,1],'.')\n",
    "    plt.plot(predict_b[:,0],predict_b[:,1],'.')\n",
    "    plt.plot(test_input_for_meas[:,0],test_input_for_meas[:,1],'.')\n",
    "    plt.legend([\"ground_truth \",\"predictions\",\"measurement\"])\n",
    "    plt.xlabel(\"x \")\n",
    "    plt.ylabel(\"y\")\n",
    "    plt.savefig(\"Graph\" + str(i)+\" \" + str(rmse_p) +\" \"+ str(rmse_m) +\".png\", format=\"PNG\")\n",
    "    plt.clf()\n"
   ]
  },
  {
   "cell_type": "code",
   "execution_count": 138,
   "metadata": {},
   "outputs": [
    {
     "data": {
      "text/plain": [
       "<matplotlib.legend.Legend at 0x226b61a1fd0>"
      ]
     },
     "execution_count": 138,
     "metadata": {},
     "output_type": "execute_result"
    },
    {
     "data": {
      "image/png": "[encoded data removed]",
      "text/plain": [
       "<Figure size 432x288 with 1 Axes>"
      ]
     },
     "metadata": {
      "needs_background": "light"
     },
     "output_type": "display_data"
    }
   ],
   "source": [
    "\n",
    "all_rmse_p =[]\n",
    "all_rmse_m =[]\n",
    "\n",
    "predicts = model_trail_u.predict(TEST_input_seqs)\n",
    "\n",
    "for i in range(0,120):\n",
    "    predict_b=predicts[(i*101):((i+1)*101)-T]\n",
    "    test_input_for_meas = data_input_TEST[(i*101)+T:(((i+1)*101))]\n",
    "    test_gd_for_meas_b = data_gd_TEST[(i*101)+T:(((i+1)*101))]    \n",
    "    \n",
    "    rmse_p = math.sqrt(mean_squared_error(predict_b, test_gd_for_meas_b))\n",
    "    rmse_m = math.sqrt(mean_squared_error(test_input_for_meas,test_gd_for_meas_b))\n",
    "    \n",
    "                       \n",
    "    all_rmse_p.append(rmse_p)\n",
    "    all_rmse_m.append(rmse_m)\n",
    "    \n",
    "plt.plot(all_rmse_p)\n",
    "plt.plot(all_rmse_m)\n",
    "plt.legend([\"prediction_gd_rmse\",\"meas_gd_rmse\"])"
   ]
  },
  {
   "cell_type": "code",
   "execution_count": 75,
   "metadata": {},
   "outputs": [],
   "source": [
    "all_rmse_p_a = np.array(all_rmse_p)\n",
    "all_rmse_m_a = np.array(all_rmse_m)\n"
   ]
  },
  {
   "cell_type": "code",
   "execution_count": 76,
   "metadata": {},
   "outputs": [],
   "source": [
    "f=np.array((all_rmse_p_a-all_rmse_m_a)<0)"
   ]
  },
  {
   "cell_type": "code",
   "execution_count": 77,
   "metadata": {},
   "outputs": [
    {
     "data": {
      "text/plain": [
       "94"
      ]
     },
     "execution_count": 77,
     "metadata": {},
     "output_type": "execute_result"
    }
   ],
   "source": [
    "np.count_nonzero(f)"
   ]
  },
  {
   "cell_type": "code",
   "execution_count": null,
   "metadata": {},
   "outputs": [],
   "source": []
  },
  {
   "cell_type": "code",
   "execution_count": null,
   "metadata": {},
   "outputs": [],
   "source": [
    "##############################################################################"
   ]
  },
  {
   "cell_type": "code",
   "execution_count": null,
   "metadata": {},
   "outputs": [],
   "source": [
    "################################################################################"
   ]
  },
  {
   "cell_type": "code",
   "execution_count": null,
   "metadata": {},
   "outputs": [],
   "source": [
    "##################################################################################"
   ]
  },
  {
   "cell_type": "code",
   "execution_count": 57,
   "metadata": {},
   "outputs": [],
   "source": [
    "###########################################################################test on different dataset "
   ]
  },
  {
   "cell_type": "code",
   "execution_count": 118,
   "metadata": {},
   "outputs": [
    {
     "data": {
      "text/html": [
       "<div>\n",
       "<style scoped>\n",
       "    .dataframe tbody tr th:only-of-type {\n",
       "        vertical-align: middle;\n",
       "    }\n",
       "\n",
       "    .dataframe tbody tr th {\n",
       "        vertical-align: top;\n",
       "    }\n",
       "\n",
       "    .dataframe thead th {\n",
       "        text-align: right;\n",
       "    }\n",
       "</style>\n",
       "<table border=\"1\" class=\"dataframe\">\n",
       "  <thead>\n",
       "    <tr style=\"text-align: right;\">\n",
       "      <th></th>\n",
       "      <th>sl_no</th>\n",
       "      <th>iteration</th>\n",
       "      <th>r_meas</th>\n",
       "      <th>phi_meas</th>\n",
       "      <th>rr_meas</th>\n",
       "      <th>x_m</th>\n",
       "      <th>y_m</th>\n",
       "      <th>dx_m</th>\n",
       "      <th>dy_m</th>\n",
       "      <th>r_gd</th>\n",
       "      <th>phi_gd</th>\n",
       "      <th>rr_gd</th>\n",
       "      <th>x_gd</th>\n",
       "      <th>y_gd</th>\n",
       "      <th>dx_gd</th>\n",
       "      <th>dy_gd</th>\n",
       "    </tr>\n",
       "  </thead>\n",
       "  <tbody>\n",
       "    <tr>\n",
       "      <th>0</th>\n",
       "      <td>1</td>\n",
       "      <td>0.0</td>\n",
       "      <td>118.557733</td>\n",
       "      <td>0.003044</td>\n",
       "      <td>0.255106</td>\n",
       "      <td>118.557184</td>\n",
       "      <td>0.360887</td>\n",
       "      <td>0.255105</td>\n",
       "      <td>0.000777</td>\n",
       "      <td>122.163476</td>\n",
       "      <td>0.000031</td>\n",
       "      <td>0.303078</td>\n",
       "      <td>122.163476</td>\n",
       "      <td>0.003750</td>\n",
       "      <td>0.303078</td>\n",
       "      <td>0.000009</td>\n",
       "    </tr>\n",
       "    <tr>\n",
       "      <th>1</th>\n",
       "      <td>1</td>\n",
       "      <td>1.0</td>\n",
       "      <td>120.571556</td>\n",
       "      <td>-0.003406</td>\n",
       "      <td>0.063379</td>\n",
       "      <td>120.570856</td>\n",
       "      <td>-0.410665</td>\n",
       "      <td>0.063379</td>\n",
       "      <td>-0.000216</td>\n",
       "      <td>122.204948</td>\n",
       "      <td>0.000288</td>\n",
       "      <td>0.041473</td>\n",
       "      <td>122.204943</td>\n",
       "      <td>0.035176</td>\n",
       "      <td>0.041473</td>\n",
       "      <td>0.000012</td>\n",
       "    </tr>\n",
       "    <tr>\n",
       "      <th>2</th>\n",
       "      <td>1</td>\n",
       "      <td>2.0</td>\n",
       "      <td>118.427954</td>\n",
       "      <td>-0.005077</td>\n",
       "      <td>-0.154127</td>\n",
       "      <td>118.426428</td>\n",
       "      <td>-0.601236</td>\n",
       "      <td>-0.154125</td>\n",
       "      <td>0.000782</td>\n",
       "      <td>122.027939</td>\n",
       "      <td>0.000666</td>\n",
       "      <td>-0.177010</td>\n",
       "      <td>122.027912</td>\n",
       "      <td>0.081260</td>\n",
       "      <td>-0.177010</td>\n",
       "      <td>-0.000118</td>\n",
       "    </tr>\n",
       "    <tr>\n",
       "      <th>3</th>\n",
       "      <td>1</td>\n",
       "      <td>3.0</td>\n",
       "      <td>121.466013</td>\n",
       "      <td>0.011516</td>\n",
       "      <td>-0.271541</td>\n",
       "      <td>121.457960</td>\n",
       "      <td>1.398717</td>\n",
       "      <td>-0.271523</td>\n",
       "      <td>-0.003127</td>\n",
       "      <td>121.755473</td>\n",
       "      <td>0.001147</td>\n",
       "      <td>-0.272466</td>\n",
       "      <td>121.755392</td>\n",
       "      <td>0.139696</td>\n",
       "      <td>-0.272466</td>\n",
       "      <td>-0.000313</td>\n",
       "    </tr>\n",
       "    <tr>\n",
       "      <th>4</th>\n",
       "      <td>1</td>\n",
       "      <td>4.0</td>\n",
       "      <td>125.982723</td>\n",
       "      <td>0.004073</td>\n",
       "      <td>-0.338679</td>\n",
       "      <td>125.981678</td>\n",
       "      <td>0.513099</td>\n",
       "      <td>-0.338677</td>\n",
       "      <td>-0.001379</td>\n",
       "      <td>121.501160</td>\n",
       "      <td>0.001774</td>\n",
       "      <td>-0.254313</td>\n",
       "      <td>121.500969</td>\n",
       "      <td>0.215603</td>\n",
       "      <td>-0.254312</td>\n",
       "      <td>-0.000451</td>\n",
       "    </tr>\n",
       "  </tbody>\n",
       "</table>\n",
       "</div>"
      ],
      "text/plain": [
       "   sl_no  iteration      r_meas  phi_meas   rr_meas         x_m       y_m  \\\n",
       "0      1        0.0  118.557733  0.003044  0.255106  118.557184  0.360887   \n",
       "1      1        1.0  120.571556 -0.003406  0.063379  120.570856 -0.410665   \n",
       "2      1        2.0  118.427954 -0.005077 -0.154127  118.426428 -0.601236   \n",
       "3      1        3.0  121.466013  0.011516 -0.271541  121.457960  1.398717   \n",
       "4      1        4.0  125.982723  0.004073 -0.338679  125.981678  0.513099   \n",
       "\n",
       "       dx_m      dy_m        r_gd    phi_gd     rr_gd        x_gd      y_gd  \\\n",
       "0  0.255105  0.000777  122.163476  0.000031  0.303078  122.163476  0.003750   \n",
       "1  0.063379 -0.000216  122.204948  0.000288  0.041473  122.204943  0.035176   \n",
       "2 -0.154125  0.000782  122.027939  0.000666 -0.177010  122.027912  0.081260   \n",
       "3 -0.271523 -0.003127  121.755473  0.001147 -0.272466  121.755392  0.139696   \n",
       "4 -0.338677 -0.001379  121.501160  0.001774 -0.254313  121.500969  0.215603   \n",
       "\n",
       "      dx_gd     dy_gd  \n",
       "0  0.303078  0.000009  \n",
       "1  0.041473  0.000012  \n",
       "2 -0.177010 -0.000118  \n",
       "3 -0.272466 -0.000313  \n",
       "4 -0.254312 -0.000451  "
      ]
     },
     "execution_count": 118,
     "metadata": {},
     "output_type": "execute_result"
    }
   ],
   "source": [
    "df_TEST_diff = pd.read_csv(\"data/new/test_n_ml_next1L.csv\",names=col_names,header=None)\n",
    "\n",
    "df_TEST_diff.head()"
   ]
  },
  {
   "cell_type": "code",
   "execution_count": 119,
   "metadata": {},
   "outputs": [
    {
     "data": {
      "text/plain": [
       "(101101, 16)"
      ]
     },
     "execution_count": 119,
     "metadata": {},
     "output_type": "execute_result"
    }
   ],
   "source": [
    "df_TEST_diff.shape"
   ]
  },
  {
   "cell_type": "code",
   "execution_count": 120,
   "metadata": {},
   "outputs": [
    {
     "data": {
      "text/plain": [
       "(101101, 2)"
      ]
     },
     "execution_count": 120,
     "metadata": {},
     "output_type": "execute_result"
    }
   ],
   "source": [
    "data_TEST_diff = df_TEST_diff[['x_m','y_m','x_gd','y_gd']]\n",
    "data_input_TEST_diff = data_TEST_diff[['x_m','y_m']].values\n",
    "data_input_TEST_diff = data_input_TEST_diff.reshape(-1,2)\n",
    "data_gd_TEST_diff = data_TEST_diff[['x_gd','y_gd']].values\n",
    "data_gd_TEST_diff= data_gd_TEST_diff.reshape(-1,2)\n",
    "data_gd_TEST_diff.shape                             "
   ]
  },
  {
   "cell_type": "code",
   "execution_count": 121,
   "metadata": {},
   "outputs": [],
   "source": [
    "TEST_input_seqs_diff ,TEST_output_seqs_diff = create_dataset(data_input_TEST_diff,data_gd_TEST_diff,T)"
   ]
  },
  {
   "cell_type": "code",
   "execution_count": 134,
   "metadata": {},
   "outputs": [],
   "source": [
    "predicts_diff = model_trail_u.predict(TEST_input_seqs_diff)"
   ]
  },
  {
   "cell_type": "markdown",
   "metadata": {},
   "source": [
    "22 27 35 36  54 63   74 76 78 79 -lstm\n",
    "26 46 51 55 58 62 65  67  69 70  75 112(50)-kf"
   ]
  },
  {
   "cell_type": "code",
   "execution_count": 200,
   "metadata": {},
   "outputs": [
    {
     "name": "stdout",
     "output_type": "stream",
     "text": [
      "rmse_p :14.053405455286228 \n",
      "rmse_m:3.8946069102837506\n"
     ]
    },
    {
     "data": {
      "text/plain": [
       "Text(0, 0.5, 'y')"
      ]
     },
     "execution_count": 200,
     "metadata": {},
     "output_type": "execute_result"
    },
    {
     "data": {
      "image/png": "[encoded data removed]",
      "text/plain": [
       "<Figure size 432x288 with 1 Axes>"
      ]
     },
     "metadata": {
      "needs_background": "light"
     },
     "output_type": "display_data"
    }
   ],
   "source": [
    "i=61\n",
    "\n",
    "\n",
    "\n",
    "predict_diff_b=predicts_diff[(i*101):((i+1)*101)-T]\n",
    "#np.savetxt('ml_predictions.csv',predict_diff_b,fmt ='%.7f',delimiter=',' )\n",
    "test_input_for_meas = data_input_TEST_diff[(i*101)+T:(((i+1)*101))]\n",
    "test_gd_for_meas_b = data_gd_TEST_diff[(i*101)+T:(((i+1)*101))] \n",
    "\n",
    "plt.plot(test_gd_for_meas_b[:,0],test_gd_for_meas_b[:,1],'.')\n",
    "plt.plot(predict_diff_b[:,0],predict_diff_b[:,1],'.')\n",
    "plt.plot(test_input_for_meas[:,0],test_input_for_meas[:,1],'.')\n",
    "plt.legend([\"ground_truth\",\"predictions\"])\n",
    "\n",
    "\n",
    "\n",
    "rmse_p = math.sqrt(mean_squared_error(predict_diff_b, test_gd_for_meas_b))\n",
    "print(f\"rmse_p :{rmse_p} \")\n",
    "rmse_m = math.sqrt(mean_squared_error(test_input_for_meas,test_gd_for_meas_b))\n",
    "print(f\"rmse_m:{rmse_m}\")\n",
    "\n",
    "plt.xlabel(f\"x   P- {rmse_p} M- {rmse_m}\")\n",
    "plt.ylabel(\"y\")"
   ]
  },
  {
   "cell_type": "code",
   "execution_count": null,
   "metadata": {},
   "outputs": [],
   "source": [
    "predicts_diff = model_trail_u.predict(TEST_input_seqs_diff)"
   ]
  },
  {
   "cell_type": "code",
   "execution_count": 199,
   "metadata": {},
   "outputs": [
    {
     "data": {
      "text/plain": [
       "<matplotlib.legend.Legend at 0x226b9da5c40>"
      ]
     },
     "execution_count": 199,
     "metadata": {},
     "output_type": "execute_result"
    },
    {
     "data": {
      "image/png": "[encoded data removed]",
      "text/plain": [
       "<Figure size 432x288 with 1 Axes>"
      ]
     },
     "metadata": {
      "needs_background": "light"
     },
     "output_type": "display_data"
    }
   ],
   "source": [
    "\n",
    "all_rmse_p =[]\n",
    "all_rmse_m =[]\n",
    "\n",
    "\n",
    "\n",
    "for i in range(50,70):\n",
    "    predict_b_diff=predicts_diff[(i*101):((i+1)*101)-5]\n",
    "    test_input_for_meas_diff = data_input_TEST_diff[(i*101)+5:(((i+1)*101))]\n",
    "    test_gd_for_meas_diff_b = data_gd_TEST_diff[(i*101)+5:(((i+1)*101))]    \n",
    "    \n",
    "    rmse_p = math.sqrt(mean_squared_error(predict_b_diff, test_gd_for_meas_diff_b))\n",
    "    rmse_m = math.sqrt(mean_squared_error(test_input_for_meas_diff,test_gd_for_meas_diff_b))\n",
    "                       \n",
    "    all_rmse_p.append(rmse_p)\n",
    "    all_rmse_m.append(rmse_m)\n",
    "    \n",
    "plt.plot(all_rmse_p)\n",
    "plt.plot(all_rmse_m)\n",
    "plt.legend([\"prediction_gd_rmse\",\"meas_gd_rmse\"])\n"
   ]
  },
  {
   "cell_type": "code",
   "execution_count": 124,
   "metadata": {},
   "outputs": [],
   "source": [
    "all_rmse_p_a = np.array(all_rmse_p)\n",
    "all_rmse_m_a = np.array(all_rmse_m)\n"
   ]
  },
  {
   "cell_type": "code",
   "execution_count": 139,
   "metadata": {},
   "outputs": [
    {
     "data": {
      "text/plain": [
       "array([-9.98658980e-02, -1.81530972e+00, -8.71318112e-01, -5.80405064e-01,\n",
       "       -1.95283868e+00, -3.96297013e-01,  2.40045294e-01,  2.80201840e-01,\n",
       "       -1.61607393e+00, -6.68505682e-01,  9.61606736e-01, -6.66180327e-01,\n",
       "       -4.13693755e-01, -1.29238430e+00, -6.81183511e-01, -7.32622476e-01,\n",
       "       -4.14125872e-02, -1.76257760e+00, -1.24427200e-01, -1.48621280e+00,\n",
       "        2.98936691e-01,  2.69765569e-01, -1.31055075e+00, -8.26483972e-01,\n",
       "       -1.91754452e+00, -7.53365016e-01, -1.24556840e+00, -1.31679809e+00,\n",
       "        4.12946505e+00, -1.68500572e+00, -2.41941929e+00, -1.27046495e-01,\n",
       "       -1.90014375e+00, -7.85286627e-01,  4.70140401e-02, -8.31898556e-01,\n",
       "       -6.74216365e-01, -1.55907057e+00, -1.48431349e+00, -1.46200814e+00,\n",
       "       -1.75772554e+00, -4.72443478e-01, -7.77728805e-01, -1.83397770e+00,\n",
       "       -1.32127287e+00,  2.69790447e-01, -9.51161042e-01,  3.58743686e-01,\n",
       "        1.18464378e+00, -5.86177180e-02, -1.18479925e+00,  6.01657662e-01,\n",
       "        1.23631604e+00, -7.37333014e-01, -1.49889139e+00, -6.67468928e-01,\n",
       "        3.96404187e-01,  3.84583117e+00, -5.91866241e-01, -1.39921938e+00,\n",
       "        3.69069429e-01,  1.01587985e+01, -1.29469549e+00, -1.02750876e+00,\n",
       "       -1.49255443e+00, -5.52933572e-01, -1.67099962e+00, -1.54705872e+00,\n",
       "       -1.05213399e+00, -2.86842594e-01,  2.12243274e+00, -1.63203003e-01,\n",
       "       -1.19852991e+00, -9.39100773e-01, -3.05834011e-01, -1.47284484e+00,\n",
       "       -1.04196401e+00, -1.82818742e+00,  5.06726192e-01, -3.32934417e-01,\n",
       "       -1.36189480e+00, -1.21051967e+00, -1.56150486e+00, -1.49738777e+00,\n",
       "       -1.35148540e+00,  1.96109438e+00, -1.09024368e+00, -4.73666774e-01,\n",
       "       -1.63764544e+00, -2.89409991e-01, -1.56183920e+00, -1.01751311e+00,\n",
       "       -1.12183660e+00, -1.91635262e-01, -1.74055196e+00, -1.11384364e+00,\n",
       "       -1.04834367e+00, -1.59842582e+00, -1.27588643e+00,  3.81762830e-01,\n",
       "       -1.66461946e+00, -7.14375487e-01, -1.47959722e+00, -1.76700109e+00,\n",
       "       -1.25129572e+00, -1.21965656e+00, -1.84970982e+00,  4.76874495e-01,\n",
       "        1.89812704e+00, -1.21648783e+00, -1.91095084e-01,  9.73463165e-01,\n",
       "       -1.28112411e+00,  3.30171207e+00,  9.93321552e-01,  1.17705753e+00,\n",
       "        3.07693906e-01, -2.33776294e+00, -5.67018812e-01, -1.13123691e+00,\n",
       "       -7.66445433e-01,  3.05028432e+00, -9.22610135e-01, -7.43335143e-01,\n",
       "       -6.34338846e-01, -1.19551171e+00, -1.37872036e-01, -1.32656261e+00,\n",
       "       -9.56758717e-01,  3.94162750e+00, -7.58424844e-01, -1.07735919e+00,\n",
       "       -1.23284588e+00, -8.93741685e-01, -8.74213646e-01, -1.45552827e+00,\n",
       "       -1.19600390e+00, -1.53558847e+00,  3.45294032e-01, -1.52011158e+00,\n",
       "       -1.39228181e+00, -4.39755206e-01, -1.10872375e+00, -1.21329994e+00,\n",
       "       -1.68696134e+00, -1.90750937e+00, -1.91567545e+00, -1.17055298e+00,\n",
       "       -3.05913809e-01, -1.75902646e+00, -8.88250136e-01, -7.77091945e-01,\n",
       "       -1.85568340e+00,  1.85102165e+00, -8.03763474e-01, -1.12831289e-01,\n",
       "       -1.53136511e+00, -1.81571290e+00, -1.62367267e+00, -1.17365493e+00,\n",
       "       -9.49076917e-01,  4.57554936e-02,  1.26485521e+00,  5.29784999e-01,\n",
       "       -1.37107786e+00, -1.23998724e+00,  6.11078428e-01, -7.96353943e-01,\n",
       "       -9.14387794e-01, -9.17389257e-01, -1.47355594e+00, -1.06621407e+00,\n",
       "       -1.19728945e+00,  6.13423116e-01, -1.16652739e+00, -1.04946893e+00,\n",
       "       -1.25988714e+00, -8.02560113e-01, -5.81966995e-01, -7.49994273e-01,\n",
       "       -1.03074897e+00, -4.40985926e-02,  1.23587660e-01, -4.44734481e-01,\n",
       "        1.87565222e-01, -1.19343048e+00, -1.78775780e-01, -5.81937532e-01,\n",
       "       -4.02273216e-01, -1.07097426e+00, -9.94705649e-01, -2.10413672e-01,\n",
       "       -1.21183937e+00, -8.05583173e-01,  9.84658389e-01, -1.93862380e+00,\n",
       "       -1.91555746e+00, -4.96505516e-01, -9.64084386e-01, -1.36122586e+00,\n",
       "       -6.95889533e-01, -2.42728181e-01, -1.49240938e+00,  4.26872354e-01,\n",
       "       -1.03540671e+00, -1.20565296e+00, -3.97637426e-01, -8.95157567e-01,\n",
       "        2.39229241e+00, -1.39622486e+00, -1.35737698e+00, -1.39430688e+00,\n",
       "       -1.28417992e+00, -2.06855449e+00, -5.52072384e-02, -9.26123317e-01,\n",
       "        3.75297352e+00, -8.29787535e-01, -6.76536773e-01, -1.93799762e-01,\n",
       "       -1.36181571e+00, -7.21082752e-01, -4.77389627e-01, -1.38517854e+00,\n",
       "       -4.57750508e-01, -7.28139440e-01, -1.77257499e+00, -1.61286900e+00,\n",
       "       -7.18364196e-01, -7.65472750e-01, -1.47358422e+00, -1.15301895e+00,\n",
       "       -1.25548348e+00, -1.26946304e+00, -1.10972773e+00, -9.43969188e-01,\n",
       "       -1.03816197e+00, -9.19551099e-01, -5.75628804e-01,  2.19538797e-01,\n",
       "        3.85368620e+00, -6.98766908e-03, -5.31996882e-01, -6.47269371e-01,\n",
       "        5.38025913e+00, -1.80709604e+00, -1.29838079e+00, -1.17301361e+00,\n",
       "       -3.22351053e-01, -6.18526525e-02,  4.44607094e-02, -5.72254945e-02,\n",
       "       -2.96239626e-01, -1.00291700e+00, -8.71117458e-01, -1.29017099e+00,\n",
       "       -1.61927166e+00, -7.48743257e-01, -1.99994249e+00, -8.64579540e-01,\n",
       "       -2.07358381e+00, -4.35732241e-02, -1.82619304e+00, -9.21580237e-01,\n",
       "       -7.72240053e-01, -5.84993979e-01,  9.34273490e-01, -1.43391628e+00,\n",
       "        1.09257295e+00, -7.44031632e-01, -5.52176055e-01, -9.08369678e-01,\n",
       "       -1.15905829e+00, -1.79836938e+00, -2.17240671e-01, -1.79656269e+00,\n",
       "       -1.50058956e+00,  1.28661220e+00, -1.14518131e+00,  1.70541974e+00,\n",
       "       -8.34618795e-01,  3.05124351e-01,  9.59689868e-01, -1.81162773e-01,\n",
       "       -1.96738595e+00, -6.77189714e-01, -1.32075849e+00, -1.04219401e+00,\n",
       "       -1.15202273e+00, -6.33167094e-01,  7.62549469e-01, -1.07227193e+00,\n",
       "       -1.48530345e+00, -6.93639507e-01, -1.15127762e+00, -7.24768492e-01,\n",
       "        8.33546957e-01, -1.07248099e+00, -5.98574763e-01, -1.33573883e+00])"
      ]
     },
     "execution_count": 139,
     "metadata": {},
     "output_type": "execute_result"
    }
   ],
   "source": [
    "f=np.array((all_rmse_p_a-all_rmse_m_a))\n",
    "f"
   ]
  },
  {
   "cell_type": "code",
   "execution_count": 126,
   "metadata": {},
   "outputs": [
    {
     "data": {
      "text/plain": [
       "246"
      ]
     },
     "execution_count": 126,
     "metadata": {},
     "output_type": "execute_result"
    }
   ],
   "source": [
    "np.count_nonzero(f)"
   ]
  },
  {
   "cell_type": "code",
   "execution_count": null,
   "metadata": {},
   "outputs": [],
   "source": []
  },
  {
   "cell_type": "code",
   "execution_count": null,
   "metadata": {},
   "outputs": [],
   "source": []
  },
  {
   "cell_type": "code",
   "execution_count": null,
   "metadata": {},
   "outputs": [],
   "source": []
  },
  {
   "cell_type": "code",
   "execution_count": null,
   "metadata": {},
   "outputs": [],
   "source": []
  },
  {
   "cell_type": "code",
   "execution_count": null,
   "metadata": {},
   "outputs": [],
   "source": []
  },
  {
   "cell_type": "code",
   "execution_count": null,
   "metadata": {},
   "outputs": [],
   "source": []
  },
  {
   "cell_type": "code",
   "execution_count": 294,
   "metadata": {},
   "outputs": [],
   "source": [
    "##### Second LSTM "
   ]
  },
  {
   "cell_type": "code",
   "execution_count": 683,
   "metadata": {},
   "outputs": [
    {
     "data": {
      "text/plain": [
       "(5097, 2)"
      ]
     },
     "execution_count": 683,
     "metadata": {},
     "output_type": "execute_result"
    }
   ],
   "source": [
    "trainPredict.shape"
   ]
  },
  {
   "cell_type": "code",
   "execution_count": 684,
   "metadata": {},
   "outputs": [],
   "source": [
    "first_three_predictions= data_gd[:3]"
   ]
  },
  {
   "cell_type": "code",
   "execution_count": 613,
   "metadata": {},
   "outputs": [
    {
     "data": {
      "text/plain": [
       "array([[ 3.8295941e+01,  1.9660000e-03],\n",
       "       [ 3.8067063e+01,  7.9950000e-03],\n",
       "       [ 3.8125018e+01,  1.4110000e-02],\n",
       "       ...,\n",
       "       [ 4.4056000e+00, -8.1401200e-01],\n",
       "       [ 5.3884850e+00, -1.0222780e+00],\n",
       "       [ 6.6605710e+00, -1.2958290e+00]])"
      ]
     },
     "execution_count": 613,
     "metadata": {},
     "output_type": "execute_result"
    }
   ],
   "source": [
    "data_gd[:-3]"
   ]
  },
  {
   "cell_type": "code",
   "execution_count": 614,
   "metadata": {},
   "outputs": [
    {
     "data": {
      "text/plain": [
       "array([[3.82959410e+01, 1.96600000e-03],\n",
       "       [3.80670630e+01, 7.99500000e-03],\n",
       "       [3.81250180e+01, 1.41100000e-02],\n",
       "       ...,\n",
       "       [3.24677467e+01, 1.38904095e+00],\n",
       "       [3.46711769e+01, 1.44084072e+00],\n",
       "       [3.59821129e+01, 1.46778965e+00]])"
      ]
     },
     "execution_count": 614,
     "metadata": {},
     "output_type": "execute_result"
    }
   ],
   "source": [
    "all_pred_LSTM1 = np.concatenate((first_three_predictions,trainPredict_inv,ValidPredict_inv,testPredict_inv))\n",
    "all_pred_LSTM1"
   ]
  },
  {
   "cell_type": "code",
   "execution_count": 615,
   "metadata": {},
   "outputs": [
    {
     "ename": "ValueError",
     "evalue": "operands could not be broadcast together with shapes (10198,2) (9698,2) ",
     "output_type": "error",
     "traceback": [
      "\u001b[1;31m---------------------------------------------------------------------------\u001b[0m",
      "\u001b[1;31mValueError\u001b[0m                                Traceback (most recent call last)",
      "\u001b[1;32m<ipython-input-615-21e3edf90596>\u001b[0m in \u001b[0;36m<module>\u001b[1;34m\u001b[0m\n\u001b[1;32m----> 1\u001b[1;33m \u001b[0mvariance\u001b[0m \u001b[1;33m=\u001b[0m \u001b[1;33m(\u001b[0m\u001b[0mdata_gd\u001b[0m\u001b[1;33m[\u001b[0m\u001b[1;33m:\u001b[0m\u001b[1;33m-\u001b[0m\u001b[1;36m3\u001b[0m\u001b[1;33m]\u001b[0m\u001b[1;33m-\u001b[0m\u001b[0mall_pred_LSTM1\u001b[0m\u001b[1;33m)\u001b[0m\u001b[1;33m**\u001b[0m\u001b[1;36m2\u001b[0m\u001b[1;33m\u001b[0m\u001b[1;33m\u001b[0m\u001b[0m\n\u001b[0m",
      "\u001b[1;31mValueError\u001b[0m: operands could not be broadcast together with shapes (10198,2) (9698,2) "
     ]
    }
   ],
   "source": [
    "variance = (data_gd[:-3]-all_pred_LSTM1)**2\n"
   ]
  },
  {
   "cell_type": "code",
   "execution_count": 387,
   "metadata": {},
   "outputs": [],
   "source": [
    "def buildVarDataset(data_input,predict,variance_o):\n",
    "    input_data=[]\n",
    "    output_data=[]\n",
    "    for t in range (len(data_input)-T):\n",
    "        x = data_input[t:t+T,:].ravel()\n",
    "        pred = predict[t]\n",
    "        variance =  variance_o[t]\n",
    "        row = np.concatenate((x,pred))\n",
    "        input_data.append(row)\n",
    "        output_data.append(variance)\n",
    "    return input_data ,output_data\n"
   ]
  },
  {
   "cell_type": "code",
   "execution_count": 388,
   "metadata": {},
   "outputs": [],
   "source": [
    "var_data_input , var_data_output = buildVarDataset(data_input,all_pred_LSTM1,variance)"
   ]
  },
  {
   "cell_type": "code",
   "execution_count": 389,
   "metadata": {},
   "outputs": [],
   "source": [
    "var_data_input = np.array(var_data_input)\n",
    "var_data_output = np.array(var_data_output)"
   ]
  },
  {
   "cell_type": "code",
   "execution_count": 390,
   "metadata": {},
   "outputs": [],
   "source": [
    "var_data_input_scaler = MinMaxScaler()\n",
    "var_data_input_scaled = var_data_input_scaler.fit_transform(var_data_input)\n",
    "\n",
    "var_data_output_scaler = MinMaxScaler()\n",
    "var_data_output_scaled =var_data_output_scaler.fit_transform(var_data_output)"
   ]
  },
  {
   "cell_type": "code",
   "execution_count": 391,
   "metadata": {},
   "outputs": [],
   "source": [
    "train_size = int(len(var_data_input) //2)\n",
    "test_size = len(var_data_input) - train_size"
   ]
  },
  {
   "cell_type": "code",
   "execution_count": 392,
   "metadata": {},
   "outputs": [
    {
     "data": {
      "text/plain": [
       "50003"
      ]
     },
     "execution_count": 392,
     "metadata": {},
     "output_type": "execute_result"
    }
   ],
   "source": [
    "train_size"
   ]
  },
  {
   "cell_type": "code",
   "execution_count": 393,
   "metadata": {},
   "outputs": [
    {
     "data": {
      "text/plain": [
       "array([[0.72902007, 0.49616563, 0.72903333, ..., 0.50287227, 0.70637079,\n",
       "        0.49898303],\n",
       "       [0.72903333, 0.49794973, 0.72904047, ..., 0.50034592, 0.70637096,\n",
       "        0.49908738],\n",
       "       [0.72904047, 0.50287227, 0.72904866, ..., 0.50032555, 0.70637092,\n",
       "        0.49921848],\n",
       "       ...,\n",
       "       [0.49694259, 0.44036342, 0.47919632, ..., 0.45354273, 0.4767777 ,\n",
       "        0.4349927 ],\n",
       "       [0.47919632, 0.44440117, 0.46351878, ..., 0.4669142 , 0.45645874,\n",
       "        0.44003326],\n",
       "       [0.46351878, 0.45354273, 0.45137357, ..., 0.48299939, 0.44037442,\n",
       "        0.44891178]])"
      ]
     },
     "execution_count": 393,
     "metadata": {},
     "output_type": "execute_result"
    }
   ],
   "source": [
    "var_train_input = var_data_input_scaled[:train_size]\n",
    "var_train_output= var_data_output_scaled[:train_size]\n",
    "\n",
    "\n",
    "var_valid_input = var_data_input_scaled[train_size: (train_size+test_size//2)]\n",
    "var_valid_output = var_data_output_scaled[train_size: (train_size+test_size//2)]\n",
    "                                                      \n",
    "var_test_input = var_data_input_scaled[(train_size+test_size//2):]                                          \n",
    "var_test_output = var_data_output_scaled[(train_size+test_size//2):]   \n",
    "var_train_input"
   ]
  },
  {
   "cell_type": "code",
   "execution_count": 394,
   "metadata": {},
   "outputs": [],
   "source": [
    "var_train_input = np.reshape(var_train_input,(var_train_input.shape[0],4,2))\n",
    "var_valid_input = np.reshape(var_valid_input,(var_valid_input.shape[0],4,2))\n",
    "var_test_input = np.reshape(var_test_input,(var_test_input.shape[0],4,2))"
   ]
  },
  {
   "cell_type": "code",
   "execution_count": 403,
   "metadata": {},
   "outputs": [
    {
     "name": "stdout",
     "output_type": "stream",
     "text": [
      "Epoch 1/20\n",
      "417/417 - 4s - loss: 6.6757e-04 - val_loss: 0.0012\n",
      "Epoch 2/20\n",
      "417/417 - 1s - loss: 2.0413e-05 - val_loss: 0.0012\n",
      "Epoch 3/20\n",
      "417/417 - 1s - loss: 1.2537e-05 - val_loss: 0.0011\n",
      "Epoch 4/20\n",
      "417/417 - 1s - loss: 1.2174e-05 - val_loss: 0.0011\n",
      "Epoch 5/20\n",
      "417/417 - 1s - loss: 1.1971e-05 - val_loss: 0.0011\n",
      "Epoch 6/20\n",
      "417/417 - 1s - loss: 1.1714e-05 - val_loss: 0.0011\n",
      "Epoch 7/20\n",
      "417/417 - 1s - loss: 1.1440e-05 - val_loss: 0.0011\n",
      "Epoch 8/20\n",
      "417/417 - 1s - loss: 1.1157e-05 - val_loss: 0.0011\n",
      "Epoch 9/20\n",
      "417/417 - 1s - loss: 1.0888e-05 - val_loss: 0.0011\n",
      "Epoch 10/20\n",
      "417/417 - 1s - loss: 1.0602e-05 - val_loss: 0.0011\n",
      "Epoch 11/20\n",
      "417/417 - 1s - loss: 1.0316e-05 - val_loss: 0.0011\n",
      "Epoch 12/20\n",
      "417/417 - 1s - loss: 1.0167e-05 - val_loss: 0.0011\n",
      "Epoch 13/20\n",
      "417/417 - 1s - loss: 9.9624e-06 - val_loss: 0.0011\n",
      "Epoch 14/20\n",
      "417/417 - 1s - loss: 9.8143e-06 - val_loss: 0.0011\n",
      "Epoch 15/20\n",
      "417/417 - 1s - loss: 9.6816e-06 - val_loss: 0.0011\n",
      "Epoch 16/20\n",
      "417/417 - 1s - loss: 9.6221e-06 - val_loss: 0.0011\n",
      "Epoch 17/20\n",
      "417/417 - 1s - loss: 9.5544e-06 - val_loss: 0.0011\n",
      "Epoch 18/20\n",
      "417/417 - 1s - loss: 9.5793e-06 - val_loss: 0.0011\n",
      "Epoch 19/20\n",
      "417/417 - 1s - loss: 9.6235e-06 - val_loss: 0.0011\n",
      "Epoch 20/20\n",
      "417/417 - 1s - loss: 9.5771e-06 - val_loss: 0.0011\n"
     ]
    }
   ],
   "source": [
    "var_model = Sequential()\n",
    "var_model.add(LSTM(8,input_shape=(4,2)))\n",
    "var_model.add(Dense(2))\n",
    "var_model.compile(loss ='mse',optimizer='adam')\n",
    "rvar= var_model.fit(var_train_input, var_train_output, epochs=20, batch_size = 120 ,verbose=2 ,validation_data=(var_valid_input,var_valid_output))"
   ]
  },
  {
   "cell_type": "code",
   "execution_count": 396,
   "metadata": {},
   "outputs": [
    {
     "data": {
      "text/plain": [
       "<matplotlib.legend.Legend at 0x188570d4c10>"
      ]
     },
     "execution_count": 396,
     "metadata": {},
     "output_type": "execute_result"
    },
    {
     "data": {
      "image/png": "[encoded data removed]",
      "text/plain": [
       "<Figure size 432x288 with 1 Axes>"
      ]
     },
     "metadata": {
      "needs_background": "light"
     },
     "output_type": "display_data"
    }
   ],
   "source": [
    "import matplotlib.pyplot as plt\n",
    "plt.plot(rvar.history['loss'], label='loss')\n",
    "plt.plot(rvar.history['val_loss'], label='val_loss')\n",
    "plt.legend()"
   ]
  },
  {
   "cell_type": "code",
   "execution_count": 397,
   "metadata": {},
   "outputs": [],
   "source": [
    "var_test_predict = var_model.predict(var_test_input)\n",
    "var_valid_predict = var_model.predict(var_valid_input)\n",
    "var_train_predict = var_model.predict(var_train_input)"
   ]
  },
  {
   "cell_type": "code",
   "execution_count": 398,
   "metadata": {},
   "outputs": [],
   "source": [
    "var_train_predict_inv = var_data_output_scaler.inverse_transform(var_train_predict)\n",
    "var_train_output_inv = var_data_output_scaler.inverse_transform(var_train_output)\n",
    "\n",
    "\n",
    "var_test_predict_inv = var_data_output_scaler.inverse_transform(var_test_predict)\n",
    "var_test_output_inv = var_data_output_scaler.inverse_transform(var_test_output)"
   ]
  },
  {
   "cell_type": "code",
   "execution_count": 399,
   "metadata": {},
   "outputs": [
    {
     "name": "stdout",
     "output_type": "stream",
     "text": [
      "Train Score: 180451753.1916904 RMSE\n",
      "Test Score: 3515456736.8155990 RMSE\n"
     ]
    }
   ],
   "source": [
    "\n",
    "\n",
    "trainScore = math.sqrt(mean_squared_error(var_train_predict_inv, var_train_output_inv))\n",
    "print('Train Score: %.7f RMSE' % (trainScore))\n",
    "testScore = math.sqrt(mean_squared_error(var_test_predict_inv, var_test_output_inv))\n",
    "print('Test Score: %.7f RMSE' % (testScore))"
   ]
  },
  {
   "cell_type": "code",
   "execution_count": 400,
   "metadata": {},
   "outputs": [
    {
     "data": {
      "text/plain": [
       "[<matplotlib.lines.Line2D at 0x18863fd1cd0>,\n",
       " <matplotlib.lines.Line2D at 0x18863fd1a90>]"
      ]
     },
     "execution_count": 400,
     "metadata": {},
     "output_type": "execute_result"
    },
    {
     "data": {
      "image/png": "[encoded data removed]",
      "text/plain": [
       "<Figure size 432x288 with 1 Axes>"
      ]
     },
     "metadata": {
      "needs_background": "light"
     },
     "output_type": "display_data"
    }
   ],
   "source": [
    "plt.plot(var_test_output_inv)"
   ]
  },
  {
   "cell_type": "code",
   "execution_count": 401,
   "metadata": {},
   "outputs": [
    {
     "data": {
      "text/plain": [
       "[<matplotlib.lines.Line2D at 0x1885815fe80>,\n",
       " <matplotlib.lines.Line2D at 0x188647a7460>]"
      ]
     },
     "execution_count": 401,
     "metadata": {},
     "output_type": "execute_result"
    },
    {
     "data": {
      "image/png": "[encoded data removed]",
      "text/plain": [
       "<Figure size 432x288 with 1 Axes>"
      ]
     },
     "metadata": {
      "needs_background": "light"
     },
     "output_type": "display_data"
    }
   ],
   "source": [
    "plt.plot(var_test_predict_inv)"
   ]
  },
  {
   "cell_type": "code",
   "execution_count": 402,
   "metadata": {},
   "outputs": [
    {
     "data": {
      "text/plain": [
       "[<matplotlib.lines.Line2D at 0x188570f6ee0>,\n",
       " <matplotlib.lines.Line2D at 0x18857142280>]"
      ]
     },
     "execution_count": 402,
     "metadata": {},
     "output_type": "execute_result"
    },
    {
     "data": {
      "image/png": "[encoded data removed]",
      "text/plain": [
       "<Figure size 432x288 with 1 Axes>"
      ]
     },
     "metadata": {
      "needs_background": "light"
     },
     "output_type": "display_data"
    }
   ],
   "source": [
    "plt.plot(var_test_output_inv-var_test_predict_inv)"
   ]
  },
  {
   "cell_type": "code",
   "execution_count": null,
   "metadata": {},
   "outputs": [],
   "source": []
  }
 ],
 "metadata": {
  "kernelspec": {
   "display_name": "Python 3",
   "language": "python",
   "name": "python3"
  },
  "language_info": {
   "codemirror_mode": {
    "name": "ipython",
    "version": 3
   },
   "file_extension": ".py",
   "mimetype": "text/x-python",
   "name": "python",
   "nbconvert_exporter": "python",
   "pygments_lexer": "ipython3",
   "version": "3.8.3"
  }
 },
 "nbformat": 4,
 "nbformat_minor": 4
}
